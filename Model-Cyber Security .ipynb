{
 "cells": [
  {
   "cell_type": "code",
   "execution_count": 312,
   "id": "97188f27",
   "metadata": {},
   "outputs": [],
   "source": [
    "#Packages related to data importing, manipulation, exploratory data analysis, data understanding\n",
    "import pandas as pd\n",
    "import numpy as np\n",
    "\n",
    "#Packages related to data visualizaiton\n",
    "import matplotlib.pyplot as plt\n",
    "import seaborn as sns\n",
    "\n",
    "#Package Related to warnings\n",
    "import warnings \n",
    "warnings.filterwarnings(\"ignore\")\n",
    "\n",
    "#Modules related to split the data \n",
    "from sklearn.model_selection import train_test_split \n",
    "\n",
    "#Module related to Pipeline Creation\n",
    "from sklearn.pipeline import Pipeline\n",
    "\n",
    "##Moudles related to feature selection\n",
    "from sklearn.feature_selection import SelectKBest ,f_classif\n",
    "\n",
    "##Moudles related to feature scaleing\n",
    "from sklearn.preprocessing import MinMaxScaler , RobustScaler\n",
    "#Modules related key techniques of supervised learning\n",
    "from sklearn.linear_model import LogisticRegression\n",
    "from sklearn.neighbors import KNeighborsClassifier\n",
    "from sklearn.ensemble import RandomForestClassifier\n",
    "from sklearn.ensemble import AdaBoostClassifier\n",
    "\n",
    "#Modules related to evaluation metrices\n",
    "from sklearn.metrics import confusion_matrix , accuracy_score , precision_score ,classification_report ,recall_score"
   ]
  },
  {
   "cell_type": "markdown",
   "id": "9580a8e8",
   "metadata": {},
   "source": [
    "## Data Preparation"
   ]
  },
  {
   "cell_type": "code",
   "execution_count": 317,
   "id": "d2e09624",
   "metadata": {},
   "outputs": [],
   "source": [
    "t1=pd.read_csv(\"Data_of_Attack_Back.csv\")\n",
    "## Create Y Multinomial variable\n",
    "t1['Attack_type']=\"unknown\""
   ]
  },
  {
   "cell_type": "code",
   "execution_count": 318,
   "id": "b6b6bd47",
   "metadata": {},
   "outputs": [],
   "source": [
    "t2=pd.read_csv(\"Data_of_Attack_Back_BufferOverflow.csv\")\n",
    "t2['Attack_type']=\"BufferOverflow\"\n",
    "\n",
    "t3=pd.read_csv(\"Data_of_Attack_Back_FTPWrite.csv\")\n",
    "t3['Attack_type']=\"FTPWrite\"\n",
    "\n",
    "t4=pd.read_csv(\"Data_of_Attack_Back_GuessPassword.csv\")\n",
    "t4['Attack_type']=\"GuessPassword\"\n",
    "\n",
    "t5=pd.read_csv(\"Data_of_Attack_Back_Neptune.csv\")\n",
    "t5['Attack_type']=\"Neptune\"\n",
    "\n",
    "t6=pd.read_csv(\"Data_of_Attack_Back_NMap.csv\")\n",
    "t6['Attack_type']=\"NMap\"\n",
    "\n",
    "t7=pd.read_csv(\"Data_of_Attack_Back_Normal.csv\")\n",
    "t7['Attack_type']=\"Normal\"\n",
    "\n",
    "t8=pd.read_csv(\"Data_of_Attack_Back_PortSweep.csv\")\n",
    "t8['Attack_type']=\"PortSweep\"\n",
    "\n",
    "t9=pd.read_csv(\"Data_of_Attack_Back_RootKit.csv\")\n",
    "t9['Attack_type']=\"RootKit\"\n",
    "\n",
    "t10=pd.read_csv(\"Data_of_Attack_Back_Satan.csv\")\n",
    "t10['Attack_type']=\"Satan\"\n",
    "\n",
    "t11=pd.read_csv(\"Data_of_Attack_Back_Smurf.csv\")\n",
    "t11['Attack_type']=\"Smurf\"\n",
    "\n",
    "#Created a flag for normal vs attack activity\n",
    "# Create Y Binomial variable\n",
    "# 0 --> Normal , 1--> Attack\n",
    "t7['attack_flag']=0\n",
    "\n",
    "df=pd.concat([t1,t2,t3,t4,t5,t6,t7,t8,t9,t10,t11],axis=0)\n",
    "\n",
    "df.fillna(1,inplace=True)\n"
   ]
  },
  {
   "cell_type": "code",
   "execution_count": 319,
   "id": "ccf5f3c9",
   "metadata": {},
   "outputs": [
    {
     "data": {
      "text/html": [
       "<div>\n",
       "<style scoped>\n",
       "    .dataframe tbody tr th:only-of-type {\n",
       "        vertical-align: middle;\n",
       "    }\n",
       "\n",
       "    .dataframe tbody tr th {\n",
       "        vertical-align: top;\n",
       "    }\n",
       "\n",
       "    .dataframe thead th {\n",
       "        text-align: right;\n",
       "    }\n",
       "</style>\n",
       "<table border=\"1\" class=\"dataframe\">\n",
       "  <thead>\n",
       "    <tr style=\"text-align: right;\">\n",
       "      <th></th>\n",
       "      <th>duration</th>\n",
       "      <th>protocol_type</th>\n",
       "      <th>service</th>\n",
       "      <th>flag</th>\n",
       "      <th>src_bytes</th>\n",
       "      <th>dst_bytes</th>\n",
       "      <th>land</th>\n",
       "      <th>wrong_fragment</th>\n",
       "      <th>urgent</th>\n",
       "      <th>hot</th>\n",
       "      <th>...</th>\n",
       "      <th>dst_host_same_srv_rate</th>\n",
       "      <th>dst_host_diff_srv_rate</th>\n",
       "      <th>dst_host_same_src_port_rate</th>\n",
       "      <th>dst_host_srv_diff_host_rate</th>\n",
       "      <th>dst_host_serror_rate</th>\n",
       "      <th>dst_host_srv_serror_rate</th>\n",
       "      <th>dst_host_rerror_rate</th>\n",
       "      <th>dst_host_srv_rerror_rate</th>\n",
       "      <th>Attack_type</th>\n",
       "      <th>attack_flag</th>\n",
       "    </tr>\n",
       "  </thead>\n",
       "  <tbody>\n",
       "    <tr>\n",
       "      <th>0</th>\n",
       "      <td>0.0</td>\n",
       "      <td>0.0</td>\n",
       "      <td>0.0</td>\n",
       "      <td>0.0</td>\n",
       "      <td>0.5454</td>\n",
       "      <td>0.08314</td>\n",
       "      <td>0</td>\n",
       "      <td>0.0</td>\n",
       "      <td>0.0</td>\n",
       "      <td>0.2</td>\n",
       "      <td>...</td>\n",
       "      <td>0.1</td>\n",
       "      <td>0.0</td>\n",
       "      <td>0.100</td>\n",
       "      <td>0.0</td>\n",
       "      <td>0.0</td>\n",
       "      <td>0.0</td>\n",
       "      <td>0.0</td>\n",
       "      <td>0.0</td>\n",
       "      <td>unknown</td>\n",
       "      <td>1.0</td>\n",
       "    </tr>\n",
       "    <tr>\n",
       "      <th>1</th>\n",
       "      <td>0.0</td>\n",
       "      <td>0.0</td>\n",
       "      <td>0.0</td>\n",
       "      <td>0.0</td>\n",
       "      <td>0.5454</td>\n",
       "      <td>0.08314</td>\n",
       "      <td>0</td>\n",
       "      <td>0.0</td>\n",
       "      <td>0.0</td>\n",
       "      <td>0.2</td>\n",
       "      <td>...</td>\n",
       "      <td>0.1</td>\n",
       "      <td>0.0</td>\n",
       "      <td>0.050</td>\n",
       "      <td>0.0</td>\n",
       "      <td>0.0</td>\n",
       "      <td>0.0</td>\n",
       "      <td>0.0</td>\n",
       "      <td>0.0</td>\n",
       "      <td>unknown</td>\n",
       "      <td>1.0</td>\n",
       "    </tr>\n",
       "    <tr>\n",
       "      <th>2</th>\n",
       "      <td>0.0</td>\n",
       "      <td>0.0</td>\n",
       "      <td>0.0</td>\n",
       "      <td>0.0</td>\n",
       "      <td>0.5454</td>\n",
       "      <td>0.08314</td>\n",
       "      <td>0</td>\n",
       "      <td>0.0</td>\n",
       "      <td>0.0</td>\n",
       "      <td>0.2</td>\n",
       "      <td>...</td>\n",
       "      <td>0.1</td>\n",
       "      <td>0.0</td>\n",
       "      <td>0.033</td>\n",
       "      <td>0.0</td>\n",
       "      <td>0.0</td>\n",
       "      <td>0.0</td>\n",
       "      <td>0.0</td>\n",
       "      <td>0.0</td>\n",
       "      <td>unknown</td>\n",
       "      <td>1.0</td>\n",
       "    </tr>\n",
       "    <tr>\n",
       "      <th>3</th>\n",
       "      <td>0.0</td>\n",
       "      <td>0.0</td>\n",
       "      <td>0.0</td>\n",
       "      <td>0.0</td>\n",
       "      <td>0.5454</td>\n",
       "      <td>0.08314</td>\n",
       "      <td>0</td>\n",
       "      <td>0.0</td>\n",
       "      <td>0.0</td>\n",
       "      <td>0.2</td>\n",
       "      <td>...</td>\n",
       "      <td>0.1</td>\n",
       "      <td>0.0</td>\n",
       "      <td>0.025</td>\n",
       "      <td>0.0</td>\n",
       "      <td>0.0</td>\n",
       "      <td>0.0</td>\n",
       "      <td>0.0</td>\n",
       "      <td>0.0</td>\n",
       "      <td>unknown</td>\n",
       "      <td>1.0</td>\n",
       "    </tr>\n",
       "    <tr>\n",
       "      <th>4</th>\n",
       "      <td>0.0</td>\n",
       "      <td>0.0</td>\n",
       "      <td>0.0</td>\n",
       "      <td>0.0</td>\n",
       "      <td>0.5454</td>\n",
       "      <td>0.08314</td>\n",
       "      <td>0</td>\n",
       "      <td>0.0</td>\n",
       "      <td>0.0</td>\n",
       "      <td>0.2</td>\n",
       "      <td>...</td>\n",
       "      <td>0.1</td>\n",
       "      <td>0.0</td>\n",
       "      <td>0.020</td>\n",
       "      <td>0.0</td>\n",
       "      <td>0.0</td>\n",
       "      <td>0.0</td>\n",
       "      <td>0.0</td>\n",
       "      <td>0.0</td>\n",
       "      <td>unknown</td>\n",
       "      <td>1.0</td>\n",
       "    </tr>\n",
       "  </tbody>\n",
       "</table>\n",
       "<p>5 rows × 43 columns</p>\n",
       "</div>"
      ],
      "text/plain": [
       "   duration  protocol_type  service  flag  src_bytes  dst_bytes  land  \\\n",
       "0       0.0            0.0      0.0   0.0     0.5454    0.08314     0   \n",
       "1       0.0            0.0      0.0   0.0     0.5454    0.08314     0   \n",
       "2       0.0            0.0      0.0   0.0     0.5454    0.08314     0   \n",
       "3       0.0            0.0      0.0   0.0     0.5454    0.08314     0   \n",
       "4       0.0            0.0      0.0   0.0     0.5454    0.08314     0   \n",
       "\n",
       "   wrong_fragment  urgent  hot  ...  dst_host_same_srv_rate  \\\n",
       "0             0.0     0.0  0.2  ...                     0.1   \n",
       "1             0.0     0.0  0.2  ...                     0.1   \n",
       "2             0.0     0.0  0.2  ...                     0.1   \n",
       "3             0.0     0.0  0.2  ...                     0.1   \n",
       "4             0.0     0.0  0.2  ...                     0.1   \n",
       "\n",
       "   dst_host_diff_srv_rate  dst_host_same_src_port_rate  \\\n",
       "0                     0.0                        0.100   \n",
       "1                     0.0                        0.050   \n",
       "2                     0.0                        0.033   \n",
       "3                     0.0                        0.025   \n",
       "4                     0.0                        0.020   \n",
       "\n",
       "   dst_host_srv_diff_host_rate  dst_host_serror_rate  \\\n",
       "0                          0.0                   0.0   \n",
       "1                          0.0                   0.0   \n",
       "2                          0.0                   0.0   \n",
       "3                          0.0                   0.0   \n",
       "4                          0.0                   0.0   \n",
       "\n",
       "   dst_host_srv_serror_rate  dst_host_rerror_rate  dst_host_srv_rerror_rate  \\\n",
       "0                       0.0                   0.0                       0.0   \n",
       "1                       0.0                   0.0                       0.0   \n",
       "2                       0.0                   0.0                       0.0   \n",
       "3                       0.0                   0.0                       0.0   \n",
       "4                       0.0                   0.0                       0.0   \n",
       "\n",
       "   Attack_type  attack_flag  \n",
       "0      unknown          1.0  \n",
       "1      unknown          1.0  \n",
       "2      unknown          1.0  \n",
       "3      unknown          1.0  \n",
       "4      unknown          1.0  \n",
       "\n",
       "[5 rows x 43 columns]"
      ]
     },
     "execution_count": 319,
     "metadata": {},
     "output_type": "execute_result"
    }
   ],
   "source": [
    "df.head()"
   ]
  },
  {
   "cell_type": "code",
   "execution_count": 320,
   "id": "b56a8262",
   "metadata": {},
   "outputs": [
    {
     "data": {
      "text/plain": [
       "Attack_type\n",
       "Normal            576710\n",
       "Neptune           227228\n",
       "Satan               5019\n",
       "Smurf               3007\n",
       "PortSweep           2964\n",
       "NMap                1554\n",
       "unknown              968\n",
       "GuessPassword         53\n",
       "BufferOverflow        30\n",
       "RootKit               10\n",
       "FTPWrite               8\n",
       "Name: count, dtype: int64"
      ]
     },
     "execution_count": 320,
     "metadata": {},
     "output_type": "execute_result"
    }
   ],
   "source": [
    "df['Attack_type'].value_counts()"
   ]
  },
  {
   "cell_type": "markdown",
   "id": "b1faadc8",
   "metadata": {},
   "source": [
    "#### The above dataset is imbalanced. Some classes have very low number of records."
   ]
  },
  {
   "cell_type": "code",
   "execution_count": 321,
   "id": "682ba979",
   "metadata": {},
   "outputs": [],
   "source": [
    "#To balance the the data set putting some low classes in single merged class\n",
    "dim={'unknown':6,\n",
    " 'BufferOverflow':6,\n",
    " 'FTPWrite':6,\n",
    " 'GuessPassword':6,\n",
    " 'Neptune':1,\n",
    " 'NMap':5,\n",
    " 'Normal':0,\n",
    " 'PortSweep':4,\n",
    " 'RootKit':6,\n",
    " 'Satan':2,\n",
    " 'Smurf':3,\n",
    "     }"
   ]
  },
  {
   "cell_type": "code",
   "execution_count": 322,
   "id": "f7aa4487",
   "metadata": {},
   "outputs": [],
   "source": [
    "df['Attack_coded']=df['Attack_type'].map(dim)"
   ]
  },
  {
   "cell_type": "code",
   "execution_count": 323,
   "id": "3a985ae3",
   "metadata": {},
   "outputs": [
    {
     "data": {
      "text/html": [
       "<div>\n",
       "<style scoped>\n",
       "    .dataframe tbody tr th:only-of-type {\n",
       "        vertical-align: middle;\n",
       "    }\n",
       "\n",
       "    .dataframe tbody tr th {\n",
       "        vertical-align: top;\n",
       "    }\n",
       "\n",
       "    .dataframe thead th {\n",
       "        text-align: right;\n",
       "    }\n",
       "</style>\n",
       "<table border=\"1\" class=\"dataframe\">\n",
       "  <thead>\n",
       "    <tr style=\"text-align: right;\">\n",
       "      <th></th>\n",
       "      <th>std</th>\n",
       "    </tr>\n",
       "  </thead>\n",
       "  <tbody>\n",
       "    <tr>\n",
       "      <th>num_outbound_cmds</th>\n",
       "      <td>0.000000</td>\n",
       "    </tr>\n",
       "    <tr>\n",
       "      <th>land</th>\n",
       "      <td>0.000000</td>\n",
       "    </tr>\n",
       "    <tr>\n",
       "      <th>is_host_login</th>\n",
       "      <td>0.000111</td>\n",
       "    </tr>\n",
       "    <tr>\n",
       "      <th>wrong_fragment</th>\n",
       "      <td>0.000332</td>\n",
       "    </tr>\n",
       "    <tr>\n",
       "      <th>urgent</th>\n",
       "      <td>0.000805</td>\n",
       "    </tr>\n",
       "  </tbody>\n",
       "</table>\n",
       "</div>"
      ],
      "text/plain": [
       "                        std\n",
       "num_outbound_cmds  0.000000\n",
       "land               0.000000\n",
       "is_host_login      0.000111\n",
       "wrong_fragment     0.000332\n",
       "urgent             0.000805"
      ]
     },
     "execution_count": 323,
     "metadata": {},
     "output_type": "execute_result"
    }
   ],
   "source": [
    "pd.DataFrame(df.std(numeric_only=True),columns=['std']).sort_values(by=['std'],ascending=True).head()"
   ]
  },
  {
   "cell_type": "markdown",
   "id": "bdd22456",
   "metadata": {},
   "source": [
    "#### Remove  column with no Standard deviation  as per above analysis as columns with low std provide very less information."
   ]
  },
  {
   "cell_type": "code",
   "execution_count": 324,
   "id": "60c648a7",
   "metadata": {},
   "outputs": [],
   "source": [
    "df.drop([\"num_outbound_cmds\",\"land\",'is_host_login','wrong_fragment'],axis=1,inplace=True)"
   ]
  },
  {
   "cell_type": "code",
   "execution_count": 325,
   "id": "decf5ac6",
   "metadata": {},
   "outputs": [
    {
     "name": "stdout",
     "output_type": "stream",
     "text": [
      "<class 'pandas.core.frame.DataFrame'>\n",
      "Index: 817551 entries, 0 to 3006\n",
      "Data columns (total 40 columns):\n",
      " #   Column                       Non-Null Count   Dtype  \n",
      "---  ------                       --------------   -----  \n",
      " 0   duration                     817551 non-null  float64\n",
      " 1   protocol_type                817551 non-null  float64\n",
      " 2   service                      817551 non-null  float64\n",
      " 3   flag                         817551 non-null  float64\n",
      " 4   src_bytes                    817551 non-null  float64\n",
      " 5   dst_bytes                    817551 non-null  float64\n",
      " 6   urgent                       817551 non-null  float64\n",
      " 7   hot                          817551 non-null  float64\n",
      " 8   num_failed_logins            817551 non-null  float64\n",
      " 9   logged_in                    817551 non-null  float64\n",
      " 10  num_compromised              817551 non-null  float64\n",
      " 11  root_shell                   817551 non-null  float64\n",
      " 12  su_attempted                 817551 non-null  float64\n",
      " 13  num_root                     817551 non-null  float64\n",
      " 14  num_file_creations           817551 non-null  float64\n",
      " 15  num_shells                   817551 non-null  float64\n",
      " 16  num_access_files             817551 non-null  float64\n",
      " 17  is_guest_login               817551 non-null  float64\n",
      " 18  count                        817551 non-null  float64\n",
      " 19  srv_count                    817551 non-null  float64\n",
      " 20  serror_rate                  817551 non-null  float64\n",
      " 21  srv_error_rate               817551 non-null  float64\n",
      " 22  rerror_rate                  817551 non-null  float64\n",
      " 23  srv_rerror_rate              817551 non-null  float64\n",
      " 24  same_srv_rate                817551 non-null  float64\n",
      " 25  diff_srv_rate                817551 non-null  float64\n",
      " 26  srv_diff_host_rate           817551 non-null  float64\n",
      " 27  dst_host_count               817551 non-null  float64\n",
      " 28  dst_host_srv_count           817551 non-null  float64\n",
      " 29  dst_host_same_srv_rate       817551 non-null  float64\n",
      " 30  dst_host_diff_srv_rate       817551 non-null  float64\n",
      " 31  dst_host_same_src_port_rate  817551 non-null  float64\n",
      " 32  dst_host_srv_diff_host_rate  817551 non-null  float64\n",
      " 33  dst_host_serror_rate         817551 non-null  float64\n",
      " 34  dst_host_srv_serror_rate     817551 non-null  float64\n",
      " 35  dst_host_rerror_rate         817551 non-null  float64\n",
      " 36  dst_host_srv_rerror_rate     817551 non-null  float64\n",
      " 37  Attack_type                  817551 non-null  object \n",
      " 38  attack_flag                  817551 non-null  float64\n",
      " 39  Attack_coded                 817551 non-null  int64  \n",
      "dtypes: float64(38), int64(1), object(1)\n",
      "memory usage: 255.7+ MB\n"
     ]
    }
   ],
   "source": [
    "df.info()"
   ]
  },
  {
   "cell_type": "code",
   "execution_count": 326,
   "id": "da84df8d",
   "metadata": {},
   "outputs": [],
   "source": [
    "df_num=df.select_dtypes(exclude='object')"
   ]
  },
  {
   "cell_type": "code",
   "execution_count": 327,
   "id": "4f8db18c",
   "metadata": {},
   "outputs": [],
   "source": [
    "c1=pd.DataFrame(df_num.corrwith(df_num['attack_flag']).abs().sort_values(ascending=False))"
   ]
  },
  {
   "cell_type": "code",
   "execution_count": 328,
   "id": "7c8f145f",
   "metadata": {},
   "outputs": [
    {
     "data": {
      "text/html": [
       "<div>\n",
       "<style scoped>\n",
       "    .dataframe tbody tr th:only-of-type {\n",
       "        vertical-align: middle;\n",
       "    }\n",
       "\n",
       "    .dataframe tbody tr th {\n",
       "        vertical-align: top;\n",
       "    }\n",
       "\n",
       "    .dataframe thead th {\n",
       "        text-align: right;\n",
       "    }\n",
       "</style>\n",
       "<table border=\"1\" class=\"dataframe\">\n",
       "  <thead>\n",
       "    <tr style=\"text-align: right;\">\n",
       "      <th></th>\n",
       "      <th>0</th>\n",
       "    </tr>\n",
       "  </thead>\n",
       "  <tbody>\n",
       "    <tr>\n",
       "      <th>attack_flag</th>\n",
       "      <td>1.000000</td>\n",
       "    </tr>\n",
       "    <tr>\n",
       "      <th>same_srv_rate</th>\n",
       "      <td>0.965912</td>\n",
       "    </tr>\n",
       "    <tr>\n",
       "      <th>flag</th>\n",
       "      <td>0.951718</td>\n",
       "    </tr>\n",
       "    <tr>\n",
       "      <th>dst_host_same_srv_rate</th>\n",
       "      <td>0.902920</td>\n",
       "    </tr>\n",
       "    <tr>\n",
       "      <th>dst_host_srv_serror_rate</th>\n",
       "      <td>0.888492</td>\n",
       "    </tr>\n",
       "    <tr>\n",
       "      <th>srv_error_rate</th>\n",
       "      <td>0.887411</td>\n",
       "    </tr>\n",
       "    <tr>\n",
       "      <th>dst_host_serror_rate</th>\n",
       "      <td>0.887263</td>\n",
       "    </tr>\n",
       "    <tr>\n",
       "      <th>serror_rate</th>\n",
       "      <td>0.886822</td>\n",
       "    </tr>\n",
       "    <tr>\n",
       "      <th>dst_host_srv_count</th>\n",
       "      <td>0.854154</td>\n",
       "    </tr>\n",
       "    <tr>\n",
       "      <th>logged_in</th>\n",
       "      <td>0.852164</td>\n",
       "    </tr>\n",
       "    <tr>\n",
       "      <th>Attack_coded</th>\n",
       "      <td>0.839229</td>\n",
       "    </tr>\n",
       "    <tr>\n",
       "      <th>count</th>\n",
       "      <td>0.835341</td>\n",
       "    </tr>\n",
       "    <tr>\n",
       "      <th>service</th>\n",
       "      <td>0.712447</td>\n",
       "    </tr>\n",
       "    <tr>\n",
       "      <th>dst_host_count</th>\n",
       "      <td>0.536981</td>\n",
       "    </tr>\n",
       "    <tr>\n",
       "      <th>dst_host_diff_srv_rate</th>\n",
       "      <td>0.399704</td>\n",
       "    </tr>\n",
       "    <tr>\n",
       "      <th>diff_srv_rate</th>\n",
       "      <td>0.345551</td>\n",
       "    </tr>\n",
       "    <tr>\n",
       "      <th>dst_host_srv_diff_host_rate</th>\n",
       "      <td>0.271942</td>\n",
       "    </tr>\n",
       "    <tr>\n",
       "      <th>srv_diff_host_rate</th>\n",
       "      <td>0.262455</td>\n",
       "    </tr>\n",
       "    <tr>\n",
       "      <th>dst_bytes</th>\n",
       "      <td>0.237695</td>\n",
       "    </tr>\n",
       "    <tr>\n",
       "      <th>rerror_rate</th>\n",
       "      <td>0.222727</td>\n",
       "    </tr>\n",
       "    <tr>\n",
       "      <th>dst_host_srv_rerror_rate</th>\n",
       "      <td>0.220724</td>\n",
       "    </tr>\n",
       "    <tr>\n",
       "      <th>srv_rerror_rate</th>\n",
       "      <td>0.219622</td>\n",
       "    </tr>\n",
       "    <tr>\n",
       "      <th>dst_host_rerror_rate</th>\n",
       "      <td>0.218418</td>\n",
       "    </tr>\n",
       "    <tr>\n",
       "      <th>dst_host_same_src_port_rate</th>\n",
       "      <td>0.123327</td>\n",
       "    </tr>\n",
       "    <tr>\n",
       "      <th>src_bytes</th>\n",
       "      <td>0.051583</td>\n",
       "    </tr>\n",
       "    <tr>\n",
       "      <th>protocol_type</th>\n",
       "      <td>0.037798</td>\n",
       "    </tr>\n",
       "    <tr>\n",
       "      <th>num_access_files</th>\n",
       "      <td>0.035356</td>\n",
       "    </tr>\n",
       "    <tr>\n",
       "      <th>is_guest_login</th>\n",
       "      <td>0.033857</td>\n",
       "    </tr>\n",
       "    <tr>\n",
       "      <th>num_root</th>\n",
       "      <td>0.029465</td>\n",
       "    </tr>\n",
       "    <tr>\n",
       "      <th>hot</th>\n",
       "      <td>0.025334</td>\n",
       "    </tr>\n",
       "    <tr>\n",
       "      <th>srv_count</th>\n",
       "      <td>0.020366</td>\n",
       "    </tr>\n",
       "    <tr>\n",
       "      <th>num_file_creations</th>\n",
       "      <td>0.015057</td>\n",
       "    </tr>\n",
       "    <tr>\n",
       "      <th>duration</th>\n",
       "      <td>0.012269</td>\n",
       "    </tr>\n",
       "    <tr>\n",
       "      <th>num_shells</th>\n",
       "      <td>0.009014</td>\n",
       "    </tr>\n",
       "    <tr>\n",
       "      <th>root_shell</th>\n",
       "      <td>0.008262</td>\n",
       "    </tr>\n",
       "    <tr>\n",
       "      <th>num_compromised</th>\n",
       "      <td>0.007643</td>\n",
       "    </tr>\n",
       "    <tr>\n",
       "      <th>su_attempted</th>\n",
       "      <td>0.005094</td>\n",
       "    </tr>\n",
       "    <tr>\n",
       "      <th>num_failed_logins</th>\n",
       "      <td>0.003863</td>\n",
       "    </tr>\n",
       "    <tr>\n",
       "      <th>urgent</th>\n",
       "      <td>0.000729</td>\n",
       "    </tr>\n",
       "  </tbody>\n",
       "</table>\n",
       "</div>"
      ],
      "text/plain": [
       "                                    0\n",
       "attack_flag                  1.000000\n",
       "same_srv_rate                0.965912\n",
       "flag                         0.951718\n",
       "dst_host_same_srv_rate       0.902920\n",
       "dst_host_srv_serror_rate     0.888492\n",
       "srv_error_rate               0.887411\n",
       "dst_host_serror_rate         0.887263\n",
       "serror_rate                  0.886822\n",
       "dst_host_srv_count           0.854154\n",
       "logged_in                    0.852164\n",
       "Attack_coded                 0.839229\n",
       "count                        0.835341\n",
       "service                      0.712447\n",
       "dst_host_count               0.536981\n",
       "dst_host_diff_srv_rate       0.399704\n",
       "diff_srv_rate                0.345551\n",
       "dst_host_srv_diff_host_rate  0.271942\n",
       "srv_diff_host_rate           0.262455\n",
       "dst_bytes                    0.237695\n",
       "rerror_rate                  0.222727\n",
       "dst_host_srv_rerror_rate     0.220724\n",
       "srv_rerror_rate              0.219622\n",
       "dst_host_rerror_rate         0.218418\n",
       "dst_host_same_src_port_rate  0.123327\n",
       "src_bytes                    0.051583\n",
       "protocol_type                0.037798\n",
       "num_access_files             0.035356\n",
       "is_guest_login               0.033857\n",
       "num_root                     0.029465\n",
       "hot                          0.025334\n",
       "srv_count                    0.020366\n",
       "num_file_creations           0.015057\n",
       "duration                     0.012269\n",
       "num_shells                   0.009014\n",
       "root_shell                   0.008262\n",
       "num_compromised              0.007643\n",
       "su_attempted                 0.005094\n",
       "num_failed_logins            0.003863\n",
       "urgent                       0.000729"
      ]
     },
     "execution_count": 328,
     "metadata": {},
     "output_type": "execute_result"
    }
   ],
   "source": [
    "c1"
   ]
  },
  {
   "cell_type": "code",
   "execution_count": 329,
   "id": "da2d4882",
   "metadata": {},
   "outputs": [
    {
     "data": {
      "text/plain": [
       "Index(['src_bytes', 'protocol_type', 'num_access_files', 'is_guest_login',\n",
       "       'num_root', 'hot', 'srv_count', 'num_file_creations', 'duration',\n",
       "       'num_shells', 'root_shell', 'num_compromised', 'su_attempted',\n",
       "       'num_failed_logins', 'urgent'],\n",
       "      dtype='object')"
      ]
     },
     "execution_count": 329,
     "metadata": {},
     "output_type": "execute_result"
    }
   ],
   "source": [
    "c1.loc[c1[0]<0.1].index"
   ]
  },
  {
   "cell_type": "code",
   "execution_count": 330,
   "id": "7e193800",
   "metadata": {},
   "outputs": [],
   "source": [
    "#Removeing columns ehich have very low corrlation with target variable.\n",
    "df.drop(c1.loc[c1[0]<0.1].index,axis=1,inplace=True)"
   ]
  },
  {
   "cell_type": "code",
   "execution_count": 331,
   "id": "002c069f",
   "metadata": {},
   "outputs": [
    {
     "data": {
      "text/plain": [
       "Index(['service', 'flag', 'dst_bytes', 'logged_in', 'count', 'serror_rate',\n",
       "       'srv_error_rate', 'rerror_rate', 'srv_rerror_rate', 'same_srv_rate',\n",
       "       'diff_srv_rate', 'srv_diff_host_rate', 'dst_host_count',\n",
       "       'dst_host_srv_count', 'dst_host_same_srv_rate',\n",
       "       'dst_host_diff_srv_rate', 'dst_host_same_src_port_rate',\n",
       "       'dst_host_srv_diff_host_rate', 'dst_host_serror_rate',\n",
       "       'dst_host_srv_serror_rate', 'dst_host_rerror_rate',\n",
       "       'dst_host_srv_rerror_rate', 'Attack_type', 'attack_flag',\n",
       "       'Attack_coded'],\n",
       "      dtype='object')"
      ]
     },
     "execution_count": 331,
     "metadata": {},
     "output_type": "execute_result"
    }
   ],
   "source": [
    "df.columns"
   ]
  },
  {
   "cell_type": "code",
   "execution_count": 332,
   "id": "db64c343",
   "metadata": {},
   "outputs": [],
   "source": [
    "y_binomial=df['attack_flag']\n",
    "y_multinomial=df['Attack_coded']"
   ]
  },
  {
   "cell_type": "code",
   "execution_count": 333,
   "id": "e3b77bee",
   "metadata": {},
   "outputs": [],
   "source": [
    "df.drop(['attack_flag','Attack_type','Attack_coded'],axis=1,inplace =True)"
   ]
  },
  {
   "cell_type": "markdown",
   "id": "00829e08",
   "metadata": {},
   "source": [
    "## Binomial Classification"
   ]
  },
  {
   "cell_type": "code",
   "execution_count": null,
   "id": "52405642",
   "metadata": {},
   "outputs": [],
   "source": []
  },
  {
   "cell_type": "code",
   "execution_count": 334,
   "id": "d98f26c4",
   "metadata": {},
   "outputs": [],
   "source": [
    "X_train, X_test, y_train, y_test = train_test_split(df, y_binomial, test_size=0.33, random_state=42)"
   ]
  },
  {
   "cell_type": "code",
   "execution_count": 335,
   "id": "738b600e",
   "metadata": {},
   "outputs": [],
   "source": [
    "lr=LogisticRegression()\n",
    "knc=KNeighborsClassifier(n_neighbors=5,weights='uniform',metric='euclidean')"
   ]
  },
  {
   "cell_type": "code",
   "execution_count": 336,
   "id": "81c0e69a",
   "metadata": {},
   "outputs": [],
   "source": [
    "skf=SelectKBest(f_classif,k=10)"
   ]
  },
  {
   "cell_type": "code",
   "execution_count": 337,
   "id": "ff6bbc52",
   "metadata": {},
   "outputs": [],
   "source": [
    "p1=Pipeline(steps=[\n",
    "    ('Scaling',RobustScaler()), #RobustScaler is a useful scaling technique when dealing with datasets that contain outliers \n",
    "    ('Feature Selection',skf),\n",
    "    ('Logestic Regression',lr)\n",
    "])"
   ]
  },
  {
   "cell_type": "code",
   "execution_count": 341,
   "id": "774a0b95",
   "metadata": {},
   "outputs": [],
   "source": [
    "p2=Pipeline(steps=[\n",
    "    ('Scaling',RobustScaler()),\n",
    "    ('Feature Selection',skf),\n",
    "    ('RandomForest Classifier',rfc)\n",
    "])"
   ]
  },
  {
   "cell_type": "code",
   "execution_count": 338,
   "id": "2a01fbc5",
   "metadata": {},
   "outputs": [
    {
     "data": {
      "text/html": [
       "<style>#sk-container-id-17 {color: black;background-color: white;}#sk-container-id-17 pre{padding: 0;}#sk-container-id-17 div.sk-toggleable {background-color: white;}#sk-container-id-17 label.sk-toggleable__label {cursor: pointer;display: block;width: 100%;margin-bottom: 0;padding: 0.3em;box-sizing: border-box;text-align: center;}#sk-container-id-17 label.sk-toggleable__label-arrow:before {content: \"▸\";float: left;margin-right: 0.25em;color: #696969;}#sk-container-id-17 label.sk-toggleable__label-arrow:hover:before {color: black;}#sk-container-id-17 div.sk-estimator:hover label.sk-toggleable__label-arrow:before {color: black;}#sk-container-id-17 div.sk-toggleable__content {max-height: 0;max-width: 0;overflow: hidden;text-align: left;background-color: #f0f8ff;}#sk-container-id-17 div.sk-toggleable__content pre {margin: 0.2em;color: black;border-radius: 0.25em;background-color: #f0f8ff;}#sk-container-id-17 input.sk-toggleable__control:checked~div.sk-toggleable__content {max-height: 200px;max-width: 100%;overflow: auto;}#sk-container-id-17 input.sk-toggleable__control:checked~label.sk-toggleable__label-arrow:before {content: \"▾\";}#sk-container-id-17 div.sk-estimator input.sk-toggleable__control:checked~label.sk-toggleable__label {background-color: #d4ebff;}#sk-container-id-17 div.sk-label input.sk-toggleable__control:checked~label.sk-toggleable__label {background-color: #d4ebff;}#sk-container-id-17 input.sk-hidden--visually {border: 0;clip: rect(1px 1px 1px 1px);clip: rect(1px, 1px, 1px, 1px);height: 1px;margin: -1px;overflow: hidden;padding: 0;position: absolute;width: 1px;}#sk-container-id-17 div.sk-estimator {font-family: monospace;background-color: #f0f8ff;border: 1px dotted black;border-radius: 0.25em;box-sizing: border-box;margin-bottom: 0.5em;}#sk-container-id-17 div.sk-estimator:hover {background-color: #d4ebff;}#sk-container-id-17 div.sk-parallel-item::after {content: \"\";width: 100%;border-bottom: 1px solid gray;flex-grow: 1;}#sk-container-id-17 div.sk-label:hover label.sk-toggleable__label {background-color: #d4ebff;}#sk-container-id-17 div.sk-serial::before {content: \"\";position: absolute;border-left: 1px solid gray;box-sizing: border-box;top: 0;bottom: 0;left: 50%;z-index: 0;}#sk-container-id-17 div.sk-serial {display: flex;flex-direction: column;align-items: center;background-color: white;padding-right: 0.2em;padding-left: 0.2em;position: relative;}#sk-container-id-17 div.sk-item {position: relative;z-index: 1;}#sk-container-id-17 div.sk-parallel {display: flex;align-items: stretch;justify-content: center;background-color: white;position: relative;}#sk-container-id-17 div.sk-item::before, #sk-container-id-17 div.sk-parallel-item::before {content: \"\";position: absolute;border-left: 1px solid gray;box-sizing: border-box;top: 0;bottom: 0;left: 50%;z-index: -1;}#sk-container-id-17 div.sk-parallel-item {display: flex;flex-direction: column;z-index: 1;position: relative;background-color: white;}#sk-container-id-17 div.sk-parallel-item:first-child::after {align-self: flex-end;width: 50%;}#sk-container-id-17 div.sk-parallel-item:last-child::after {align-self: flex-start;width: 50%;}#sk-container-id-17 div.sk-parallel-item:only-child::after {width: 0;}#sk-container-id-17 div.sk-dashed-wrapped {border: 1px dashed gray;margin: 0 0.4em 0.5em 0.4em;box-sizing: border-box;padding-bottom: 0.4em;background-color: white;}#sk-container-id-17 div.sk-label label {font-family: monospace;font-weight: bold;display: inline-block;line-height: 1.2em;}#sk-container-id-17 div.sk-label-container {text-align: center;}#sk-container-id-17 div.sk-container {/* jupyter's `normalize.less` sets `[hidden] { display: none; }` but bootstrap.min.css set `[hidden] { display: none !important; }` so we also need the `!important` here to be able to override the default hidden behavior on the sphinx rendered scikit-learn.org. See: https://github.com/scikit-learn/scikit-learn/issues/21755 */display: inline-block !important;position: relative;}#sk-container-id-17 div.sk-text-repr-fallback {display: none;}</style><div id=\"sk-container-id-17\" class=\"sk-top-container\"><div class=\"sk-text-repr-fallback\"><pre>Pipeline(steps=[(&#x27;Scaling&#x27;, RobustScaler()),\n",
       "                (&#x27;Feature Selection&#x27;, SelectKBest()),\n",
       "                (&#x27;Logestic Regression&#x27;, LogisticRegression())])</pre><b>In a Jupyter environment, please rerun this cell to show the HTML representation or trust the notebook. <br />On GitHub, the HTML representation is unable to render, please try loading this page with nbviewer.org.</b></div><div class=\"sk-container\" hidden><div class=\"sk-item sk-dashed-wrapped\"><div class=\"sk-label-container\"><div class=\"sk-label sk-toggleable\"><input class=\"sk-toggleable__control sk-hidden--visually\" id=\"sk-estimator-id-65\" type=\"checkbox\" ><label for=\"sk-estimator-id-65\" class=\"sk-toggleable__label sk-toggleable__label-arrow\">Pipeline</label><div class=\"sk-toggleable__content\"><pre>Pipeline(steps=[(&#x27;Scaling&#x27;, RobustScaler()),\n",
       "                (&#x27;Feature Selection&#x27;, SelectKBest()),\n",
       "                (&#x27;Logestic Regression&#x27;, LogisticRegression())])</pre></div></div></div><div class=\"sk-serial\"><div class=\"sk-item\"><div class=\"sk-estimator sk-toggleable\"><input class=\"sk-toggleable__control sk-hidden--visually\" id=\"sk-estimator-id-66\" type=\"checkbox\" ><label for=\"sk-estimator-id-66\" class=\"sk-toggleable__label sk-toggleable__label-arrow\">RobustScaler</label><div class=\"sk-toggleable__content\"><pre>RobustScaler()</pre></div></div></div><div class=\"sk-item\"><div class=\"sk-estimator sk-toggleable\"><input class=\"sk-toggleable__control sk-hidden--visually\" id=\"sk-estimator-id-67\" type=\"checkbox\" ><label for=\"sk-estimator-id-67\" class=\"sk-toggleable__label sk-toggleable__label-arrow\">SelectKBest</label><div class=\"sk-toggleable__content\"><pre>SelectKBest()</pre></div></div></div><div class=\"sk-item\"><div class=\"sk-estimator sk-toggleable\"><input class=\"sk-toggleable__control sk-hidden--visually\" id=\"sk-estimator-id-68\" type=\"checkbox\" ><label for=\"sk-estimator-id-68\" class=\"sk-toggleable__label sk-toggleable__label-arrow\">LogisticRegression</label><div class=\"sk-toggleable__content\"><pre>LogisticRegression()</pre></div></div></div></div></div></div></div>"
      ],
      "text/plain": [
       "Pipeline(steps=[('Scaling', RobustScaler()),\n",
       "                ('Feature Selection', SelectKBest()),\n",
       "                ('Logestic Regression', LogisticRegression())])"
      ]
     },
     "execution_count": 338,
     "metadata": {},
     "output_type": "execute_result"
    }
   ],
   "source": [
    "p1.fit(X_train,y_train)"
   ]
  },
  {
   "cell_type": "code",
   "execution_count": 339,
   "id": "d919600f",
   "metadata": {},
   "outputs": [],
   "source": [
    "train_preds_pipe1 = p1.predict(X_train)\n",
    "test_preds_pipe1 = p1.predict(X_test)"
   ]
  },
  {
   "cell_type": "code",
   "execution_count": 340,
   "id": "30af421b",
   "metadata": {},
   "outputs": [
    {
     "name": "stdout",
     "output_type": "stream",
     "text": [
      "Accuracy train pipe1 ::  0.9938750435866869\n",
      "Accuracy test pipe1 ::  0.9939842545368284\n",
      "Precision train pipe1 ::  0.9827311749366665\n",
      "Precision test pipe1 ::  0.9830087915963422\n",
      "Recall train pipe1 ::  0.9964390237775238\n",
      "Recall test pipe1 ::  0.9965014875062246\n"
     ]
    }
   ],
   "source": [
    "print(\"Accuracy train pipe1 :: \",accuracy_score(train_preds_pipe1, y_train))\n",
    "print(\"Accuracy test pipe1 :: \",accuracy_score(test_preds_pipe1, y_test))\n",
    "print(\"Precision train pipe1 :: \",precision_score(train_preds_pipe1, y_train))\n",
    "print(\"Precision test pipe1 :: \",precision_score(test_preds_pipe1, y_test))\n",
    "print(\"Recall train pipe1 :: \",recall_score(train_preds_pipe1, y_train))\n",
    "print(\"Recall test pipe1 :: \",recall_score(test_preds_pipe1, y_test))"
   ]
  },
  {
   "cell_type": "code",
   "execution_count": 342,
   "id": "c9cc09fe",
   "metadata": {},
   "outputs": [
    {
     "name": "stdout",
     "output_type": "stream",
     "text": [
      "Train Classification Report of LogisticRegression \n",
      "\n",
      "              precision    recall  f1-score   support\n",
      "\n",
      "         0.0       1.00      0.99      1.00    388533\n",
      "         1.0       0.98      1.00      0.99    159226\n",
      "\n",
      "    accuracy                           0.99    547759\n",
      "   macro avg       0.99      0.99      0.99    547759\n",
      "weighted avg       0.99      0.99      0.99    547759\n",
      "\n"
     ]
    }
   ],
   "source": [
    "print(\"Train Classification Report of LogisticRegression \\n\")\n",
    "print(classification_report(train_preds_pipe1,y_train))"
   ]
  },
  {
   "cell_type": "code",
   "execution_count": 343,
   "id": "674dd8ab",
   "metadata": {},
   "outputs": [
    {
     "name": "stdout",
     "output_type": "stream",
     "text": [
      "Test Classification Report of LogisticRegression \n",
      "\n",
      "              precision    recall  f1-score   support\n",
      "\n",
      "         0.0       1.00      0.99      1.00    191473\n",
      "         1.0       0.98      1.00      0.99     78319\n",
      "\n",
      "    accuracy                           0.99    269792\n",
      "   macro avg       0.99      0.99      0.99    269792\n",
      "weighted avg       0.99      0.99      0.99    269792\n",
      "\n"
     ]
    }
   ],
   "source": [
    "print(\"Test Classification Report of LogisticRegression \\n\")\n",
    "print(classification_report(test_preds_pipe1,y_test))"
   ]
  },
  {
   "cell_type": "code",
   "execution_count": 344,
   "id": "1b2c12a2",
   "metadata": {},
   "outputs": [
    {
     "data": {
      "image/png": "[encoded data removed]",
      "text/plain": [
       "<Figure size 640x480 with 2 Axes>"
      ]
     },
     "metadata": {},
     "output_type": "display_data"
    }
   ],
   "source": [
    "sns.heatmap(data=confusion_matrix(train_preds_pipe1, y_train),cmap='Blues')\n",
    "plt.title(\"Confusion Metrix for LogisticRegression--> Train data\",c='r')\n",
    "plt.show()"
   ]
  },
  {
   "cell_type": "code",
   "execution_count": 345,
   "id": "ef5c9018",
   "metadata": {},
   "outputs": [
    {
     "data": {
      "image/png": "[encoded data removed]",
      "text/plain": [
       "<Figure size 640x480 with 2 Axes>"
      ]
     },
     "metadata": {},
     "output_type": "display_data"
    }
   ],
   "source": [
    "sns.heatmap(data=confusion_matrix(test_preds_pipe1,y_test),cmap='Blues')\n",
    "plt.title(\"Confusion Metrix for LogisticRegression--> Test data\",c='r')\n",
    "plt.show()"
   ]
  },
  {
   "cell_type": "code",
   "execution_count": 346,
   "id": "66cd4108",
   "metadata": {},
   "outputs": [
    {
     "data": {
      "text/html": [
       "<style>#sk-container-id-18 {color: black;background-color: white;}#sk-container-id-18 pre{padding: 0;}#sk-container-id-18 div.sk-toggleable {background-color: white;}#sk-container-id-18 label.sk-toggleable__label {cursor: pointer;display: block;width: 100%;margin-bottom: 0;padding: 0.3em;box-sizing: border-box;text-align: center;}#sk-container-id-18 label.sk-toggleable__label-arrow:before {content: \"▸\";float: left;margin-right: 0.25em;color: #696969;}#sk-container-id-18 label.sk-toggleable__label-arrow:hover:before {color: black;}#sk-container-id-18 div.sk-estimator:hover label.sk-toggleable__label-arrow:before {color: black;}#sk-container-id-18 div.sk-toggleable__content {max-height: 0;max-width: 0;overflow: hidden;text-align: left;background-color: #f0f8ff;}#sk-container-id-18 div.sk-toggleable__content pre {margin: 0.2em;color: black;border-radius: 0.25em;background-color: #f0f8ff;}#sk-container-id-18 input.sk-toggleable__control:checked~div.sk-toggleable__content {max-height: 200px;max-width: 100%;overflow: auto;}#sk-container-id-18 input.sk-toggleable__control:checked~label.sk-toggleable__label-arrow:before {content: \"▾\";}#sk-container-id-18 div.sk-estimator input.sk-toggleable__control:checked~label.sk-toggleable__label {background-color: #d4ebff;}#sk-container-id-18 div.sk-label input.sk-toggleable__control:checked~label.sk-toggleable__label {background-color: #d4ebff;}#sk-container-id-18 input.sk-hidden--visually {border: 0;clip: rect(1px 1px 1px 1px);clip: rect(1px, 1px, 1px, 1px);height: 1px;margin: -1px;overflow: hidden;padding: 0;position: absolute;width: 1px;}#sk-container-id-18 div.sk-estimator {font-family: monospace;background-color: #f0f8ff;border: 1px dotted black;border-radius: 0.25em;box-sizing: border-box;margin-bottom: 0.5em;}#sk-container-id-18 div.sk-estimator:hover {background-color: #d4ebff;}#sk-container-id-18 div.sk-parallel-item::after {content: \"\";width: 100%;border-bottom: 1px solid gray;flex-grow: 1;}#sk-container-id-18 div.sk-label:hover label.sk-toggleable__label {background-color: #d4ebff;}#sk-container-id-18 div.sk-serial::before {content: \"\";position: absolute;border-left: 1px solid gray;box-sizing: border-box;top: 0;bottom: 0;left: 50%;z-index: 0;}#sk-container-id-18 div.sk-serial {display: flex;flex-direction: column;align-items: center;background-color: white;padding-right: 0.2em;padding-left: 0.2em;position: relative;}#sk-container-id-18 div.sk-item {position: relative;z-index: 1;}#sk-container-id-18 div.sk-parallel {display: flex;align-items: stretch;justify-content: center;background-color: white;position: relative;}#sk-container-id-18 div.sk-item::before, #sk-container-id-18 div.sk-parallel-item::before {content: \"\";position: absolute;border-left: 1px solid gray;box-sizing: border-box;top: 0;bottom: 0;left: 50%;z-index: -1;}#sk-container-id-18 div.sk-parallel-item {display: flex;flex-direction: column;z-index: 1;position: relative;background-color: white;}#sk-container-id-18 div.sk-parallel-item:first-child::after {align-self: flex-end;width: 50%;}#sk-container-id-18 div.sk-parallel-item:last-child::after {align-self: flex-start;width: 50%;}#sk-container-id-18 div.sk-parallel-item:only-child::after {width: 0;}#sk-container-id-18 div.sk-dashed-wrapped {border: 1px dashed gray;margin: 0 0.4em 0.5em 0.4em;box-sizing: border-box;padding-bottom: 0.4em;background-color: white;}#sk-container-id-18 div.sk-label label {font-family: monospace;font-weight: bold;display: inline-block;line-height: 1.2em;}#sk-container-id-18 div.sk-label-container {text-align: center;}#sk-container-id-18 div.sk-container {/* jupyter's `normalize.less` sets `[hidden] { display: none; }` but bootstrap.min.css set `[hidden] { display: none !important; }` so we also need the `!important` here to be able to override the default hidden behavior on the sphinx rendered scikit-learn.org. See: https://github.com/scikit-learn/scikit-learn/issues/21755 */display: inline-block !important;position: relative;}#sk-container-id-18 div.sk-text-repr-fallback {display: none;}</style><div id=\"sk-container-id-18\" class=\"sk-top-container\"><div class=\"sk-text-repr-fallback\"><pre>Pipeline(steps=[(&#x27;Scaling&#x27;, RobustScaler()),\n",
       "                (&#x27;Feature Selection&#x27;, SelectKBest()),\n",
       "                (&#x27;RandomForest Classifier&#x27;, RandomForestClassifier())])</pre><b>In a Jupyter environment, please rerun this cell to show the HTML representation or trust the notebook. <br />On GitHub, the HTML representation is unable to render, please try loading this page with nbviewer.org.</b></div><div class=\"sk-container\" hidden><div class=\"sk-item sk-dashed-wrapped\"><div class=\"sk-label-container\"><div class=\"sk-label sk-toggleable\"><input class=\"sk-toggleable__control sk-hidden--visually\" id=\"sk-estimator-id-69\" type=\"checkbox\" ><label for=\"sk-estimator-id-69\" class=\"sk-toggleable__label sk-toggleable__label-arrow\">Pipeline</label><div class=\"sk-toggleable__content\"><pre>Pipeline(steps=[(&#x27;Scaling&#x27;, RobustScaler()),\n",
       "                (&#x27;Feature Selection&#x27;, SelectKBest()),\n",
       "                (&#x27;RandomForest Classifier&#x27;, RandomForestClassifier())])</pre></div></div></div><div class=\"sk-serial\"><div class=\"sk-item\"><div class=\"sk-estimator sk-toggleable\"><input class=\"sk-toggleable__control sk-hidden--visually\" id=\"sk-estimator-id-70\" type=\"checkbox\" ><label for=\"sk-estimator-id-70\" class=\"sk-toggleable__label sk-toggleable__label-arrow\">RobustScaler</label><div class=\"sk-toggleable__content\"><pre>RobustScaler()</pre></div></div></div><div class=\"sk-item\"><div class=\"sk-estimator sk-toggleable\"><input class=\"sk-toggleable__control sk-hidden--visually\" id=\"sk-estimator-id-71\" type=\"checkbox\" ><label for=\"sk-estimator-id-71\" class=\"sk-toggleable__label sk-toggleable__label-arrow\">SelectKBest</label><div class=\"sk-toggleable__content\"><pre>SelectKBest()</pre></div></div></div><div class=\"sk-item\"><div class=\"sk-estimator sk-toggleable\"><input class=\"sk-toggleable__control sk-hidden--visually\" id=\"sk-estimator-id-72\" type=\"checkbox\" ><label for=\"sk-estimator-id-72\" class=\"sk-toggleable__label sk-toggleable__label-arrow\">RandomForestClassifier</label><div class=\"sk-toggleable__content\"><pre>RandomForestClassifier()</pre></div></div></div></div></div></div></div>"
      ],
      "text/plain": [
       "Pipeline(steps=[('Scaling', RobustScaler()),\n",
       "                ('Feature Selection', SelectKBest()),\n",
       "                ('RandomForest Classifier', RandomForestClassifier())])"
      ]
     },
     "execution_count": 346,
     "metadata": {},
     "output_type": "execute_result"
    }
   ],
   "source": [
    "p2.fit(X_train,y_train)"
   ]
  },
  {
   "cell_type": "code",
   "execution_count": 347,
   "id": "fd0e010c",
   "metadata": {},
   "outputs": [],
   "source": [
    "train_preds_pipe2 = p2.predict(X_train)\n",
    "test_preds_pipe2 = p2.predict(X_test)"
   ]
  },
  {
   "cell_type": "code",
   "execution_count": 348,
   "id": "a0643484",
   "metadata": {},
   "outputs": [
    {
     "name": "stdout",
     "output_type": "stream",
     "text": [
      "Accuracy train pipe2 ::  0.997376583497487\n",
      "Accuracy test pipe2 ::  0.9963490392598743\n",
      "Precision train pipe2 ::  0.992251327060893\n",
      "Precision test pipe2 ::  0.9907423734791042\n",
      "Recall train pipe2 ::  0.9988402688581013\n",
      "Recall test pipe2 ::  0.9968317935850156\n"
     ]
    }
   ],
   "source": [
    "print(\"Accuracy train pipe2 :: \",accuracy_score(train_preds_pipe2, y_train))\n",
    "print(\"Accuracy test pipe2 :: \",accuracy_score(test_preds_pipe2, y_test))\n",
    "print(\"Precision train pipe2 :: \",precision_score(train_preds_pipe2, y_train))\n",
    "print(\"Precision test pipe2 :: \",precision_score(test_preds_pipe2, y_test))\n",
    "print(\"Recall train pipe2 :: \",recall_score(train_preds_pipe2, y_train))\n",
    "print(\"Recall test pipe2 :: \",recall_score(test_preds_pipe2, y_test))"
   ]
  },
  {
   "cell_type": "code",
   "execution_count": 349,
   "id": "ab5013f0",
   "metadata": {},
   "outputs": [
    {
     "name": "stdout",
     "output_type": "stream",
     "text": [
      "Train Classification Report of RandomForestClassifier \n",
      "\n",
      "              precision    recall  f1-score   support\n",
      "\n",
      "         0.0       1.00      1.00      1.00    387377\n",
      "         1.0       0.99      1.00      1.00    160382\n",
      "\n",
      "    accuracy                           1.00    547759\n",
      "   macro avg       1.00      1.00      1.00    547759\n",
      "weighted avg       1.00      1.00      1.00    547759\n",
      "\n"
     ]
    }
   ],
   "source": [
    "print(\"Train Classification Report of RandomForestClassifier \\n\")\n",
    "print(classification_report(train_preds_pipe2,y_train))"
   ]
  },
  {
   "cell_type": "code",
   "execution_count": 350,
   "id": "a045d754",
   "metadata": {},
   "outputs": [
    {
     "name": "stdout",
     "output_type": "stream",
     "text": [
      "Test Classification Report of RandomForestClassifier\n",
      "\n",
      "              precision    recall  f1-score   support\n",
      "\n",
      "         0.0       1.00      1.00      1.00    190883\n",
      "         1.0       0.99      1.00      0.99     78909\n",
      "\n",
      "    accuracy                           1.00    269792\n",
      "   macro avg       0.99      1.00      1.00    269792\n",
      "weighted avg       1.00      1.00      1.00    269792\n",
      "\n"
     ]
    }
   ],
   "source": [
    "print(\"Test Classification Report of RandomForestClassifier\\n\")\n",
    "print(classification_report(test_preds_pipe2,y_test))"
   ]
  },
  {
   "cell_type": "code",
   "execution_count": 351,
   "id": "2d060710",
   "metadata": {},
   "outputs": [
    {
     "data": {
      "image/png": "[encoded data removed]",
      "text/plain": [
       "<Figure size 640x480 with 2 Axes>"
      ]
     },
     "metadata": {},
     "output_type": "display_data"
    }
   ],
   "source": [
    "sns.heatmap(data=confusion_matrix(train_preds_pipe2, y_train),cmap='Blues')\n",
    "plt.title(\"Confusion Matrix for RandomForestClassifier-->Train data\",c='r')\n",
    "plt.show()"
   ]
  },
  {
   "cell_type": "code",
   "execution_count": 352,
   "id": "86605ecc",
   "metadata": {},
   "outputs": [
    {
     "data": {
      "image/png": "[encoded data removed]",
      "text/plain": [
       "<Figure size 640x480 with 2 Axes>"
      ]
     },
     "metadata": {},
     "output_type": "display_data"
    }
   ],
   "source": [
    "sns.heatmap(data=confusion_matrix(test_preds_pipe2,y_test),cmap='Blues')\n",
    "plt.title(\"Confusion Matrix for RandomForestClassifier--> Test data\",c='r')\n",
    "plt.show()"
   ]
  },
  {
   "cell_type": "markdown",
   "id": "19b7202e",
   "metadata": {},
   "source": [
    "#### Both pipelines seem to perform very well, as they have high accuracy, precision, and recall on both the training and test sets. However, Pipe2(RandomForest Classifier) generally has slightly higher accuracy, precision, and recall values compared to Pipe1(LogisticRegression) on both the training and test sets.Therefore using Pipe2(RandomForest Classifier) for making pridictions."
   ]
  },
  {
   "cell_type": "code",
   "execution_count": 353,
   "id": "dbb4aa7b",
   "metadata": {},
   "outputs": [],
   "source": [
    "pred=pd.DataFrame(p2.predict(df))"
   ]
  },
  {
   "cell_type": "code",
   "execution_count": 354,
   "id": "6bd2a3cf",
   "metadata": {},
   "outputs": [],
   "source": [
    "df['Pred_attack_flag']=pred"
   ]
  },
  {
   "cell_type": "markdown",
   "id": "270217a4",
   "metadata": {},
   "source": [
    "### Multinomial Classification "
   ]
  },
  {
   "cell_type": "code",
   "execution_count": 355,
   "id": "2928f72b",
   "metadata": {},
   "outputs": [],
   "source": [
    "X_train, X_test, y_train, y_test = train_test_split(df, y_multinomial, test_size=0.33, random_state=42)"
   ]
  },
  {
   "cell_type": "code",
   "execution_count": 356,
   "id": "6c95fc76",
   "metadata": {},
   "outputs": [],
   "source": [
    "rfc=RandomForestClassifier()\n",
    "adab=AdaBoostClassifier()"
   ]
  },
  {
   "cell_type": "code",
   "execution_count": 357,
   "id": "9f1a4729",
   "metadata": {},
   "outputs": [],
   "source": [
    "p3=Pipeline(steps=[\n",
    "    ('Scaling',RobustScaler()), #RobustScaler is a useful scaling technique when dealing with datasets that contain outliers \n",
    "    ('Feature Selection',skf),\n",
    "    ('RandomForestClassifier',rfc)\n",
    "    ])"
   ]
  },
  {
   "cell_type": "code",
   "execution_count": 358,
   "id": "4f48d513",
   "metadata": {},
   "outputs": [],
   "source": [
    "p4=Pipeline(steps=[\n",
    "    ('Scaling',RobustScaler()),\n",
    "    ('Feature Selection',skf),\n",
    "    ('AdaBoostClassifier',adab)\n",
    "    ])"
   ]
  },
  {
   "cell_type": "code",
   "execution_count": 359,
   "id": "a710fde2",
   "metadata": {},
   "outputs": [
    {
     "data": {
      "text/html": [
       "<style>#sk-container-id-19 {color: black;background-color: white;}#sk-container-id-19 pre{padding: 0;}#sk-container-id-19 div.sk-toggleable {background-color: white;}#sk-container-id-19 label.sk-toggleable__label {cursor: pointer;display: block;width: 100%;margin-bottom: 0;padding: 0.3em;box-sizing: border-box;text-align: center;}#sk-container-id-19 label.sk-toggleable__label-arrow:before {content: \"▸\";float: left;margin-right: 0.25em;color: #696969;}#sk-container-id-19 label.sk-toggleable__label-arrow:hover:before {color: black;}#sk-container-id-19 div.sk-estimator:hover label.sk-toggleable__label-arrow:before {color: black;}#sk-container-id-19 div.sk-toggleable__content {max-height: 0;max-width: 0;overflow: hidden;text-align: left;background-color: #f0f8ff;}#sk-container-id-19 div.sk-toggleable__content pre {margin: 0.2em;color: black;border-radius: 0.25em;background-color: #f0f8ff;}#sk-container-id-19 input.sk-toggleable__control:checked~div.sk-toggleable__content {max-height: 200px;max-width: 100%;overflow: auto;}#sk-container-id-19 input.sk-toggleable__control:checked~label.sk-toggleable__label-arrow:before {content: \"▾\";}#sk-container-id-19 div.sk-estimator input.sk-toggleable__control:checked~label.sk-toggleable__label {background-color: #d4ebff;}#sk-container-id-19 div.sk-label input.sk-toggleable__control:checked~label.sk-toggleable__label {background-color: #d4ebff;}#sk-container-id-19 input.sk-hidden--visually {border: 0;clip: rect(1px 1px 1px 1px);clip: rect(1px, 1px, 1px, 1px);height: 1px;margin: -1px;overflow: hidden;padding: 0;position: absolute;width: 1px;}#sk-container-id-19 div.sk-estimator {font-family: monospace;background-color: #f0f8ff;border: 1px dotted black;border-radius: 0.25em;box-sizing: border-box;margin-bottom: 0.5em;}#sk-container-id-19 div.sk-estimator:hover {background-color: #d4ebff;}#sk-container-id-19 div.sk-parallel-item::after {content: \"\";width: 100%;border-bottom: 1px solid gray;flex-grow: 1;}#sk-container-id-19 div.sk-label:hover label.sk-toggleable__label {background-color: #d4ebff;}#sk-container-id-19 div.sk-serial::before {content: \"\";position: absolute;border-left: 1px solid gray;box-sizing: border-box;top: 0;bottom: 0;left: 50%;z-index: 0;}#sk-container-id-19 div.sk-serial {display: flex;flex-direction: column;align-items: center;background-color: white;padding-right: 0.2em;padding-left: 0.2em;position: relative;}#sk-container-id-19 div.sk-item {position: relative;z-index: 1;}#sk-container-id-19 div.sk-parallel {display: flex;align-items: stretch;justify-content: center;background-color: white;position: relative;}#sk-container-id-19 div.sk-item::before, #sk-container-id-19 div.sk-parallel-item::before {content: \"\";position: absolute;border-left: 1px solid gray;box-sizing: border-box;top: 0;bottom: 0;left: 50%;z-index: -1;}#sk-container-id-19 div.sk-parallel-item {display: flex;flex-direction: column;z-index: 1;position: relative;background-color: white;}#sk-container-id-19 div.sk-parallel-item:first-child::after {align-self: flex-end;width: 50%;}#sk-container-id-19 div.sk-parallel-item:last-child::after {align-self: flex-start;width: 50%;}#sk-container-id-19 div.sk-parallel-item:only-child::after {width: 0;}#sk-container-id-19 div.sk-dashed-wrapped {border: 1px dashed gray;margin: 0 0.4em 0.5em 0.4em;box-sizing: border-box;padding-bottom: 0.4em;background-color: white;}#sk-container-id-19 div.sk-label label {font-family: monospace;font-weight: bold;display: inline-block;line-height: 1.2em;}#sk-container-id-19 div.sk-label-container {text-align: center;}#sk-container-id-19 div.sk-container {/* jupyter's `normalize.less` sets `[hidden] { display: none; }` but bootstrap.min.css set `[hidden] { display: none !important; }` so we also need the `!important` here to be able to override the default hidden behavior on the sphinx rendered scikit-learn.org. See: https://github.com/scikit-learn/scikit-learn/issues/21755 */display: inline-block !important;position: relative;}#sk-container-id-19 div.sk-text-repr-fallback {display: none;}</style><div id=\"sk-container-id-19\" class=\"sk-top-container\"><div class=\"sk-text-repr-fallback\"><pre>Pipeline(steps=[(&#x27;Scaling&#x27;, RobustScaler()),\n",
       "                (&#x27;Feature Selection&#x27;, SelectKBest()),\n",
       "                (&#x27;RandomForestClassifier&#x27;, RandomForestClassifier())])</pre><b>In a Jupyter environment, please rerun this cell to show the HTML representation or trust the notebook. <br />On GitHub, the HTML representation is unable to render, please try loading this page with nbviewer.org.</b></div><div class=\"sk-container\" hidden><div class=\"sk-item sk-dashed-wrapped\"><div class=\"sk-label-container\"><div class=\"sk-label sk-toggleable\"><input class=\"sk-toggleable__control sk-hidden--visually\" id=\"sk-estimator-id-73\" type=\"checkbox\" ><label for=\"sk-estimator-id-73\" class=\"sk-toggleable__label sk-toggleable__label-arrow\">Pipeline</label><div class=\"sk-toggleable__content\"><pre>Pipeline(steps=[(&#x27;Scaling&#x27;, RobustScaler()),\n",
       "                (&#x27;Feature Selection&#x27;, SelectKBest()),\n",
       "                (&#x27;RandomForestClassifier&#x27;, RandomForestClassifier())])</pre></div></div></div><div class=\"sk-serial\"><div class=\"sk-item\"><div class=\"sk-estimator sk-toggleable\"><input class=\"sk-toggleable__control sk-hidden--visually\" id=\"sk-estimator-id-74\" type=\"checkbox\" ><label for=\"sk-estimator-id-74\" class=\"sk-toggleable__label sk-toggleable__label-arrow\">RobustScaler</label><div class=\"sk-toggleable__content\"><pre>RobustScaler()</pre></div></div></div><div class=\"sk-item\"><div class=\"sk-estimator sk-toggleable\"><input class=\"sk-toggleable__control sk-hidden--visually\" id=\"sk-estimator-id-75\" type=\"checkbox\" ><label for=\"sk-estimator-id-75\" class=\"sk-toggleable__label sk-toggleable__label-arrow\">SelectKBest</label><div class=\"sk-toggleable__content\"><pre>SelectKBest()</pre></div></div></div><div class=\"sk-item\"><div class=\"sk-estimator sk-toggleable\"><input class=\"sk-toggleable__control sk-hidden--visually\" id=\"sk-estimator-id-76\" type=\"checkbox\" ><label for=\"sk-estimator-id-76\" class=\"sk-toggleable__label sk-toggleable__label-arrow\">RandomForestClassifier</label><div class=\"sk-toggleable__content\"><pre>RandomForestClassifier()</pre></div></div></div></div></div></div></div>"
      ],
      "text/plain": [
       "Pipeline(steps=[('Scaling', RobustScaler()),\n",
       "                ('Feature Selection', SelectKBest()),\n",
       "                ('RandomForestClassifier', RandomForestClassifier())])"
      ]
     },
     "execution_count": 359,
     "metadata": {},
     "output_type": "execute_result"
    }
   ],
   "source": [
    "p3.fit(X_train,y_train)"
   ]
  },
  {
   "cell_type": "code",
   "execution_count": 360,
   "id": "16bb526c",
   "metadata": {},
   "outputs": [],
   "source": [
    "train_preds_pipe3 = p3.predict(X_train)\n",
    "test_preds_pipe3 = p3.predict(X_test)"
   ]
  },
  {
   "cell_type": "code",
   "execution_count": 361,
   "id": "2dc3e7e4",
   "metadata": {},
   "outputs": [
    {
     "name": "stdout",
     "output_type": "stream",
     "text": [
      "Accuracy train pipe3 ::  0.9971356016058157\n",
      "Accuracy test pipe3 ::  0.9960451014114577\n",
      "Precision train pipe3 ::  [0.99952629 0.99996717 0.98192771 0.83169291 0.94358462 0.69886364\n",
      " 0.24828532]\n",
      "Precision test pipe3 ::  [0.99876049 0.99973305 0.95585639 0.80820513 0.93756504 0.57831325\n",
      " 0.17941176]\n",
      "Recall train pipe3 ::  [0.99676289 0.99933728 0.98698153 0.99004101 0.99421357 0.85121107\n",
      " 0.92820513]\n",
      "Recall test pipe3 ::  [0.99611845 0.99930623 0.96494355 0.96450428 0.97090517 0.71820449\n",
      " 0.57009346]\n"
     ]
    }
   ],
   "source": [
    "print(\"Accuracy train pipe3 :: \",accuracy_score(train_preds_pipe3, y_train))\n",
    "print(\"Accuracy test pipe3 :: \",accuracy_score(test_preds_pipe3, y_test))\n",
    "print(\"Precision train pipe3 :: \",precision_score(train_preds_pipe3, y_train,average=None))\n",
    "print(\"Precision test pipe3 :: \",precision_score(test_preds_pipe3, y_test,average=None))\n",
    "print(\"Recall train pipe3 :: \",recall_score(train_preds_pipe3, y_train,average=None))\n",
    "print(\"Recall test pipe3 :: \",recall_score(test_preds_pipe3, y_test,average=None))"
   ]
  },
  {
   "cell_type": "code",
   "execution_count": 362,
   "id": "607d4b77",
   "metadata": {},
   "outputs": [
    {
     "name": "stdout",
     "output_type": "stream",
     "text": [
      "Classification Report of RandomForestClassifier --> Train\n",
      "              precision    recall  f1-score   support\n",
      "\n",
      "           0       1.00      1.00      1.00    387383\n",
      "           1       1.00      1.00      1.00    152403\n",
      "           2       0.98      0.99      0.98      3303\n",
      "           3       0.83      0.99      0.90      1707\n",
      "           4       0.94      0.99      0.97      1901\n",
      "           5       0.70      0.85      0.77       867\n",
      "           6       0.25      0.93      0.39       195\n",
      "\n",
      "    accuracy                           1.00    547759\n",
      "   macro avg       0.81      0.96      0.86    547759\n",
      "weighted avg       1.00      1.00      1.00    547759\n",
      "\n"
     ]
    }
   ],
   "source": [
    "print(\"Classification Report of RandomForestClassifier --> Train\")\n",
    "print(classification_report(train_preds_pipe3,y_train))"
   ]
  },
  {
   "cell_type": "code",
   "execution_count": 363,
   "id": "0084c91c",
   "metadata": {},
   "outputs": [
    {
     "name": "stdout",
     "output_type": "stream",
     "text": [
      "Classification Report of RandomForestClassifier --> Test\n",
      "              precision    recall  f1-score   support\n",
      "\n",
      "           0       1.00      1.00      1.00    190903\n",
      "           1       1.00      1.00      1.00     74953\n",
      "           2       0.96      0.96      0.96      1683\n",
      "           3       0.81      0.96      0.88       817\n",
      "           4       0.94      0.97      0.95       928\n",
      "           5       0.58      0.72      0.64       401\n",
      "           6       0.18      0.57      0.27       107\n",
      "\n",
      "    accuracy                           1.00    269792\n",
      "   macro avg       0.78      0.88      0.81    269792\n",
      "weighted avg       1.00      1.00      1.00    269792\n",
      "\n"
     ]
    }
   ],
   "source": [
    "print(\"Classification Report of RandomForestClassifier --> Test\")\n",
    "print(classification_report(test_preds_pipe3,y_test))"
   ]
  },
  {
   "cell_type": "code",
   "execution_count": 364,
   "id": "6db6434a",
   "metadata": {},
   "outputs": [
    {
     "name": "stdout",
     "output_type": "stream",
     "text": [
      "Confusion Matrix for RandomForestClassifier-->Train\n"
     ]
    },
    {
     "data": {
      "text/plain": [
       "array([[386129,      0,     53,    334,      2,    318,    547],\n",
       "       [     0, 152302,      1,      0,    100,      0,      0],\n",
       "       [    24,      0,   3260,      8,     11,      0,      0],\n",
       "       [    16,      0,      1,   1690,      0,      0,      0],\n",
       "       [     2,      5,      4,      0,   1890,      0,      0],\n",
       "       [   127,      0,      1,      0,      0,    738,      1],\n",
       "       [    14,      0,      0,      0,      0,      0,    181]],\n",
       "      dtype=int64)"
      ]
     },
     "execution_count": 364,
     "metadata": {},
     "output_type": "execute_result"
    }
   ],
   "source": [
    "print(\"Confusion Matrix for RandomForestClassifier-->Train\")\n",
    "confusion_matrix(train_preds_pipe3,y_train)"
   ]
  },
  {
   "cell_type": "code",
   "execution_count": 365,
   "id": "1c083df3",
   "metadata": {},
   "outputs": [
    {
     "data": {
      "text/html": [
       "<style>#sk-container-id-20 {color: black;background-color: white;}#sk-container-id-20 pre{padding: 0;}#sk-container-id-20 div.sk-toggleable {background-color: white;}#sk-container-id-20 label.sk-toggleable__label {cursor: pointer;display: block;width: 100%;margin-bottom: 0;padding: 0.3em;box-sizing: border-box;text-align: center;}#sk-container-id-20 label.sk-toggleable__label-arrow:before {content: \"▸\";float: left;margin-right: 0.25em;color: #696969;}#sk-container-id-20 label.sk-toggleable__label-arrow:hover:before {color: black;}#sk-container-id-20 div.sk-estimator:hover label.sk-toggleable__label-arrow:before {color: black;}#sk-container-id-20 div.sk-toggleable__content {max-height: 0;max-width: 0;overflow: hidden;text-align: left;background-color: #f0f8ff;}#sk-container-id-20 div.sk-toggleable__content pre {margin: 0.2em;color: black;border-radius: 0.25em;background-color: #f0f8ff;}#sk-container-id-20 input.sk-toggleable__control:checked~div.sk-toggleable__content {max-height: 200px;max-width: 100%;overflow: auto;}#sk-container-id-20 input.sk-toggleable__control:checked~label.sk-toggleable__label-arrow:before {content: \"▾\";}#sk-container-id-20 div.sk-estimator input.sk-toggleable__control:checked~label.sk-toggleable__label {background-color: #d4ebff;}#sk-container-id-20 div.sk-label input.sk-toggleable__control:checked~label.sk-toggleable__label {background-color: #d4ebff;}#sk-container-id-20 input.sk-hidden--visually {border: 0;clip: rect(1px 1px 1px 1px);clip: rect(1px, 1px, 1px, 1px);height: 1px;margin: -1px;overflow: hidden;padding: 0;position: absolute;width: 1px;}#sk-container-id-20 div.sk-estimator {font-family: monospace;background-color: #f0f8ff;border: 1px dotted black;border-radius: 0.25em;box-sizing: border-box;margin-bottom: 0.5em;}#sk-container-id-20 div.sk-estimator:hover {background-color: #d4ebff;}#sk-container-id-20 div.sk-parallel-item::after {content: \"\";width: 100%;border-bottom: 1px solid gray;flex-grow: 1;}#sk-container-id-20 div.sk-label:hover label.sk-toggleable__label {background-color: #d4ebff;}#sk-container-id-20 div.sk-serial::before {content: \"\";position: absolute;border-left: 1px solid gray;box-sizing: border-box;top: 0;bottom: 0;left: 50%;z-index: 0;}#sk-container-id-20 div.sk-serial {display: flex;flex-direction: column;align-items: center;background-color: white;padding-right: 0.2em;padding-left: 0.2em;position: relative;}#sk-container-id-20 div.sk-item {position: relative;z-index: 1;}#sk-container-id-20 div.sk-parallel {display: flex;align-items: stretch;justify-content: center;background-color: white;position: relative;}#sk-container-id-20 div.sk-item::before, #sk-container-id-20 div.sk-parallel-item::before {content: \"\";position: absolute;border-left: 1px solid gray;box-sizing: border-box;top: 0;bottom: 0;left: 50%;z-index: -1;}#sk-container-id-20 div.sk-parallel-item {display: flex;flex-direction: column;z-index: 1;position: relative;background-color: white;}#sk-container-id-20 div.sk-parallel-item:first-child::after {align-self: flex-end;width: 50%;}#sk-container-id-20 div.sk-parallel-item:last-child::after {align-self: flex-start;width: 50%;}#sk-container-id-20 div.sk-parallel-item:only-child::after {width: 0;}#sk-container-id-20 div.sk-dashed-wrapped {border: 1px dashed gray;margin: 0 0.4em 0.5em 0.4em;box-sizing: border-box;padding-bottom: 0.4em;background-color: white;}#sk-container-id-20 div.sk-label label {font-family: monospace;font-weight: bold;display: inline-block;line-height: 1.2em;}#sk-container-id-20 div.sk-label-container {text-align: center;}#sk-container-id-20 div.sk-container {/* jupyter's `normalize.less` sets `[hidden] { display: none; }` but bootstrap.min.css set `[hidden] { display: none !important; }` so we also need the `!important` here to be able to override the default hidden behavior on the sphinx rendered scikit-learn.org. See: https://github.com/scikit-learn/scikit-learn/issues/21755 */display: inline-block !important;position: relative;}#sk-container-id-20 div.sk-text-repr-fallback {display: none;}</style><div id=\"sk-container-id-20\" class=\"sk-top-container\"><div class=\"sk-text-repr-fallback\"><pre>Pipeline(steps=[(&#x27;Scaling&#x27;, RobustScaler()),\n",
       "                (&#x27;Feature Selection&#x27;, SelectKBest()),\n",
       "                (&#x27;AdaBoostClassifier&#x27;, AdaBoostClassifier())])</pre><b>In a Jupyter environment, please rerun this cell to show the HTML representation or trust the notebook. <br />On GitHub, the HTML representation is unable to render, please try loading this page with nbviewer.org.</b></div><div class=\"sk-container\" hidden><div class=\"sk-item sk-dashed-wrapped\"><div class=\"sk-label-container\"><div class=\"sk-label sk-toggleable\"><input class=\"sk-toggleable__control sk-hidden--visually\" id=\"sk-estimator-id-77\" type=\"checkbox\" ><label for=\"sk-estimator-id-77\" class=\"sk-toggleable__label sk-toggleable__label-arrow\">Pipeline</label><div class=\"sk-toggleable__content\"><pre>Pipeline(steps=[(&#x27;Scaling&#x27;, RobustScaler()),\n",
       "                (&#x27;Feature Selection&#x27;, SelectKBest()),\n",
       "                (&#x27;AdaBoostClassifier&#x27;, AdaBoostClassifier())])</pre></div></div></div><div class=\"sk-serial\"><div class=\"sk-item\"><div class=\"sk-estimator sk-toggleable\"><input class=\"sk-toggleable__control sk-hidden--visually\" id=\"sk-estimator-id-78\" type=\"checkbox\" ><label for=\"sk-estimator-id-78\" class=\"sk-toggleable__label sk-toggleable__label-arrow\">RobustScaler</label><div class=\"sk-toggleable__content\"><pre>RobustScaler()</pre></div></div></div><div class=\"sk-item\"><div class=\"sk-estimator sk-toggleable\"><input class=\"sk-toggleable__control sk-hidden--visually\" id=\"sk-estimator-id-79\" type=\"checkbox\" ><label for=\"sk-estimator-id-79\" class=\"sk-toggleable__label sk-toggleable__label-arrow\">SelectKBest</label><div class=\"sk-toggleable__content\"><pre>SelectKBest()</pre></div></div></div><div class=\"sk-item\"><div class=\"sk-estimator sk-toggleable\"><input class=\"sk-toggleable__control sk-hidden--visually\" id=\"sk-estimator-id-80\" type=\"checkbox\" ><label for=\"sk-estimator-id-80\" class=\"sk-toggleable__label sk-toggleable__label-arrow\">AdaBoostClassifier</label><div class=\"sk-toggleable__content\"><pre>AdaBoostClassifier()</pre></div></div></div></div></div></div></div>"
      ],
      "text/plain": [
       "Pipeline(steps=[('Scaling', RobustScaler()),\n",
       "                ('Feature Selection', SelectKBest()),\n",
       "                ('AdaBoostClassifier', AdaBoostClassifier())])"
      ]
     },
     "execution_count": 365,
     "metadata": {},
     "output_type": "execute_result"
    }
   ],
   "source": [
    "p4.fit(X_train,y_train)"
   ]
  },
  {
   "cell_type": "code",
   "execution_count": 366,
   "id": "7e67a32b",
   "metadata": {},
   "outputs": [],
   "source": [
    "train_preds_pipe4 = p4.predict(X_train)\n",
    "test_preds_pipe4 = p4.predict(X_test)"
   ]
  },
  {
   "cell_type": "code",
   "execution_count": 367,
   "id": "3c066b40",
   "metadata": {},
   "outputs": [
    {
     "name": "stdout",
     "output_type": "stream",
     "text": [
      "Accuracy train pipe4 ::  0.9835821958196944\n",
      "Accuracy test pipe4 ::  0.9836170086585221\n",
      "Precision train pipe4 ::  [0.99845979 0.99976364 0.23433735 0.         0.         0.\n",
      " 0.        ]\n",
      "Precision test pipe4 ::  [0.99844011 0.99989322 0.21071218 0.         0.         0.\n",
      " 0.        ]\n",
      "Recall train pipe4 ::  [0.98582287 0.98036325 0.66552609 0.         0.         0.\n",
      " 0.        ]\n",
      "Recall test pipe4 ::  [0.98613914 0.97949818 0.66791045 0.         0.         0.\n",
      " 0.        ]\n"
     ]
    }
   ],
   "source": [
    "print(\"Accuracy train pipe4 :: \",accuracy_score(train_preds_pipe4, y_train))\n",
    "print(\"Accuracy test pipe4 :: \",accuracy_score(test_preds_pipe4, y_test))\n",
    "print(\"Precision train pipe4 :: \",precision_score(train_preds_pipe4, y_train,average=None))\n",
    "print(\"Precision test pipe4 :: \",precision_score(test_preds_pipe4, y_test,average=None))\n",
    "print(\"Recall train pipe4 :: \",recall_score(train_preds_pipe4, y_train,average=None))\n",
    "print(\"Recall test pipe4 :: \",recall_score(test_preds_pipe4, y_test,average=None))"
   ]
  },
  {
   "cell_type": "code",
   "execution_count": 368,
   "id": "586ea795",
   "metadata": {},
   "outputs": [
    {
     "name": "stdout",
     "output_type": "stream",
     "text": [
      "Classification Report of AdaBoostClassifier --> Train\n",
      "              precision    recall  f1-score   support\n",
      "\n",
      "           0       1.00      0.99      0.99    391264\n",
      "           1       1.00      0.98      0.99    155321\n",
      "           2       0.23      0.67      0.35      1169\n",
      "           3       0.00      0.00      0.00         0\n",
      "           4       0.00      0.00      0.00         0\n",
      "           5       0.00      0.00      0.00         5\n",
      "           6       0.00      0.00      0.00         0\n",
      "\n",
      "    accuracy                           0.98    547759\n",
      "   macro avg       0.32      0.38      0.33    547759\n",
      "weighted avg       1.00      0.98      0.99    547759\n",
      "\n"
     ]
    }
   ],
   "source": [
    "print(\"Classification Report of AdaBoostClassifier --> Train\")\n",
    "print(classification_report(train_preds_pipe4,y_train))"
   ]
  },
  {
   "cell_type": "code",
   "execution_count": 369,
   "id": "954d0d55",
   "metadata": {},
   "outputs": [
    {
     "name": "stdout",
     "output_type": "stream",
     "text": [
      "Classification Report of RandomForestClassifier --> Test\n",
      "              precision    recall  f1-score   support\n",
      "\n",
      "           0       1.00      0.99      0.99    192773\n",
      "           1       1.00      0.98      0.99     76481\n",
      "           2       0.21      0.67      0.32       536\n",
      "           3       0.00      0.00      0.00         0\n",
      "           4       0.00      0.00      0.00         0\n",
      "           5       0.00      0.00      0.00         2\n",
      "           6       0.00      0.00      0.00         0\n",
      "\n",
      "    accuracy                           0.98    269792\n",
      "   macro avg       0.32      0.38      0.33    269792\n",
      "weighted avg       1.00      0.98      0.99    269792\n",
      "\n"
     ]
    }
   ],
   "source": [
    "print(\"Classification Report of RandomForestClassifier --> Test\")\n",
    "print(classification_report(test_preds_pipe4,y_test))"
   ]
  },
  {
   "cell_type": "code",
   "execution_count": 370,
   "id": "4a74bb4c",
   "metadata": {},
   "outputs": [
    {
     "name": "stdout",
     "output_type": "stream",
     "text": [
      "Confusion Matrix for AdaBoostClassifier-->Train\n"
     ]
    },
    {
     "data": {
      "text/plain": [
       "array([[385717,     36,    473,   2032,   1325,   1012,    669],\n",
       "       [   201, 152271,   2069,      0,    678,     43,     59],\n",
       "       [   390,      0,    778,      0,      0,      1,      0],\n",
       "       [     0,      0,      0,      0,      0,      0,      0],\n",
       "       [     0,      0,      0,      0,      0,      0,      0],\n",
       "       [     4,      0,      0,      0,      0,      0,      1],\n",
       "       [     0,      0,      0,      0,      0,      0,      0]],\n",
       "      dtype=int64)"
      ]
     },
     "execution_count": 370,
     "metadata": {},
     "output_type": "execute_result"
    }
   ],
   "source": [
    "print(\"Confusion Matrix for AdaBoostClassifier-->Train\")\n",
    "confusion_matrix(train_preds_pipe4,y_train)"
   ]
  },
  {
   "cell_type": "code",
   "execution_count": 371,
   "id": "c8a62e42",
   "metadata": {},
   "outputs": [
    {
     "name": "stdout",
     "output_type": "stream",
     "text": [
      "Confusion Matrix for AdaBoostClassifier-->Test\n"
     ]
    },
    {
     "data": {
      "text/plain": [
       "array([[190101,      8,    252,    975,    645,    484,    308],\n",
       "       [   117,  74913,   1089,      0,    316,     14,     32],\n",
       "       [   178,      0,    358,      0,      0,      0,      0],\n",
       "       [     0,      0,      0,      0,      0,      0,      0],\n",
       "       [     0,      0,      0,      0,      0,      0,      0],\n",
       "       [     2,      0,      0,      0,      0,      0,      0],\n",
       "       [     0,      0,      0,      0,      0,      0,      0]],\n",
       "      dtype=int64)"
      ]
     },
     "execution_count": 371,
     "metadata": {},
     "output_type": "execute_result"
    }
   ],
   "source": [
    "print(\"Confusion Matrix for AdaBoostClassifier-->Test\")\n",
    "confusion_matrix(test_preds_pipe4,y_test)"
   ]
  },
  {
   "cell_type": "markdown",
   "id": "5dda3a80",
   "metadata": {},
   "source": [
    "#### Pipe3(RandomForestClassifier) has higher accuracy, precision, and recall values compared to Pipe4(AdaBoostClassifier) on both the training and test sets. Therefore using Pipe3(RandomForestClassifier) for prediction."
   ]
  },
  {
   "cell_type": "code",
   "execution_count": 372,
   "id": "4df6b146",
   "metadata": {},
   "outputs": [],
   "source": [
    "pred=pd.DataFrame(p3.predict(df))"
   ]
  },
  {
   "cell_type": "code",
   "execution_count": 304,
   "id": "81ebbd0b",
   "metadata": {},
   "outputs": [],
   "source": [
    "df['Pred_attack_coded']=pred"
   ]
  },
  {
   "cell_type": "code",
   "execution_count": 305,
   "id": "db22f1b6",
   "metadata": {},
   "outputs": [],
   "source": [
    "df['Attack_flag']=y_binomial"
   ]
  },
  {
   "cell_type": "code",
   "execution_count": 306,
   "id": "0a30ff2c",
   "metadata": {},
   "outputs": [],
   "source": [
    "df['Attack_coded']=y_multinomial"
   ]
  },
  {
   "cell_type": "code",
   "execution_count": 308,
   "id": "3fe560bf",
   "metadata": {},
   "outputs": [
    {
     "data": {
      "text/html": [
       "<div>\n",
       "<style scoped>\n",
       "    .dataframe tbody tr th:only-of-type {\n",
       "        vertical-align: middle;\n",
       "    }\n",
       "\n",
       "    .dataframe tbody tr th {\n",
       "        vertical-align: top;\n",
       "    }\n",
       "\n",
       "    .dataframe thead th {\n",
       "        text-align: right;\n",
       "    }\n",
       "</style>\n",
       "<table border=\"1\" class=\"dataframe\">\n",
       "  <thead>\n",
       "    <tr style=\"text-align: right;\">\n",
       "      <th></th>\n",
       "      <th>service</th>\n",
       "      <th>flag</th>\n",
       "      <th>dst_bytes</th>\n",
       "      <th>logged_in</th>\n",
       "      <th>count</th>\n",
       "      <th>serror_rate</th>\n",
       "      <th>srv_error_rate</th>\n",
       "      <th>rerror_rate</th>\n",
       "      <th>srv_rerror_rate</th>\n",
       "      <th>same_srv_rate</th>\n",
       "      <th>...</th>\n",
       "      <th>dst_host_same_src_port_rate</th>\n",
       "      <th>dst_host_srv_diff_host_rate</th>\n",
       "      <th>dst_host_serror_rate</th>\n",
       "      <th>dst_host_srv_serror_rate</th>\n",
       "      <th>dst_host_rerror_rate</th>\n",
       "      <th>dst_host_srv_rerror_rate</th>\n",
       "      <th>Pred_attack_flag</th>\n",
       "      <th>Pred_attack_coded</th>\n",
       "      <th>Attack_flag</th>\n",
       "      <th>Attack_coded</th>\n",
       "    </tr>\n",
       "  </thead>\n",
       "  <tbody>\n",
       "    <tr>\n",
       "      <th>0</th>\n",
       "      <td>0.00</td>\n",
       "      <td>0.0</td>\n",
       "      <td>0.08314</td>\n",
       "      <td>0.1</td>\n",
       "      <td>0.001</td>\n",
       "      <td>0.0</td>\n",
       "      <td>0.0</td>\n",
       "      <td>0.0</td>\n",
       "      <td>0.050</td>\n",
       "      <td>0.1</td>\n",
       "      <td>...</td>\n",
       "      <td>0.100</td>\n",
       "      <td>0.0</td>\n",
       "      <td>0.0</td>\n",
       "      <td>0.0</td>\n",
       "      <td>0.0</td>\n",
       "      <td>0.0</td>\n",
       "      <td>0.0</td>\n",
       "      <td>0</td>\n",
       "      <td>1.0</td>\n",
       "      <td>6</td>\n",
       "    </tr>\n",
       "    <tr>\n",
       "      <th>1</th>\n",
       "      <td>0.00</td>\n",
       "      <td>0.0</td>\n",
       "      <td>0.08314</td>\n",
       "      <td>0.1</td>\n",
       "      <td>0.002</td>\n",
       "      <td>0.0</td>\n",
       "      <td>0.0</td>\n",
       "      <td>0.0</td>\n",
       "      <td>0.033</td>\n",
       "      <td>0.1</td>\n",
       "      <td>...</td>\n",
       "      <td>0.050</td>\n",
       "      <td>0.0</td>\n",
       "      <td>0.0</td>\n",
       "      <td>0.0</td>\n",
       "      <td>0.0</td>\n",
       "      <td>0.0</td>\n",
       "      <td>0.0</td>\n",
       "      <td>0</td>\n",
       "      <td>1.0</td>\n",
       "      <td>6</td>\n",
       "    </tr>\n",
       "    <tr>\n",
       "      <th>2</th>\n",
       "      <td>0.00</td>\n",
       "      <td>0.0</td>\n",
       "      <td>0.08314</td>\n",
       "      <td>0.1</td>\n",
       "      <td>0.003</td>\n",
       "      <td>0.0</td>\n",
       "      <td>0.0</td>\n",
       "      <td>0.0</td>\n",
       "      <td>0.025</td>\n",
       "      <td>0.1</td>\n",
       "      <td>...</td>\n",
       "      <td>0.033</td>\n",
       "      <td>0.0</td>\n",
       "      <td>0.0</td>\n",
       "      <td>0.0</td>\n",
       "      <td>0.0</td>\n",
       "      <td>0.0</td>\n",
       "      <td>0.0</td>\n",
       "      <td>0</td>\n",
       "      <td>1.0</td>\n",
       "      <td>6</td>\n",
       "    </tr>\n",
       "    <tr>\n",
       "      <th>3</th>\n",
       "      <td>0.00</td>\n",
       "      <td>0.0</td>\n",
       "      <td>0.08314</td>\n",
       "      <td>0.1</td>\n",
       "      <td>0.004</td>\n",
       "      <td>0.0</td>\n",
       "      <td>0.0</td>\n",
       "      <td>0.0</td>\n",
       "      <td>0.000</td>\n",
       "      <td>0.1</td>\n",
       "      <td>...</td>\n",
       "      <td>0.025</td>\n",
       "      <td>0.0</td>\n",
       "      <td>0.0</td>\n",
       "      <td>0.0</td>\n",
       "      <td>0.0</td>\n",
       "      <td>0.0</td>\n",
       "      <td>0.0</td>\n",
       "      <td>0</td>\n",
       "      <td>1.0</td>\n",
       "      <td>6</td>\n",
       "    </tr>\n",
       "    <tr>\n",
       "      <th>4</th>\n",
       "      <td>0.00</td>\n",
       "      <td>0.0</td>\n",
       "      <td>0.08314</td>\n",
       "      <td>0.1</td>\n",
       "      <td>0.004</td>\n",
       "      <td>0.0</td>\n",
       "      <td>0.0</td>\n",
       "      <td>0.0</td>\n",
       "      <td>0.000</td>\n",
       "      <td>0.1</td>\n",
       "      <td>...</td>\n",
       "      <td>0.020</td>\n",
       "      <td>0.0</td>\n",
       "      <td>0.0</td>\n",
       "      <td>0.0</td>\n",
       "      <td>0.0</td>\n",
       "      <td>0.0</td>\n",
       "      <td>0.0</td>\n",
       "      <td>0</td>\n",
       "      <td>1.0</td>\n",
       "      <td>6</td>\n",
       "    </tr>\n",
       "    <tr>\n",
       "      <th>...</th>\n",
       "      <td>...</td>\n",
       "      <td>...</td>\n",
       "      <td>...</td>\n",
       "      <td>...</td>\n",
       "      <td>...</td>\n",
       "      <td>...</td>\n",
       "      <td>...</td>\n",
       "      <td>...</td>\n",
       "      <td>...</td>\n",
       "      <td>...</td>\n",
       "      <td>...</td>\n",
       "      <td>...</td>\n",
       "      <td>...</td>\n",
       "      <td>...</td>\n",
       "      <td>...</td>\n",
       "      <td>...</td>\n",
       "      <td>...</td>\n",
       "      <td>...</td>\n",
       "      <td>...</td>\n",
       "      <td>...</td>\n",
       "      <td>...</td>\n",
       "    </tr>\n",
       "    <tr>\n",
       "      <th>3002</th>\n",
       "      <td>0.09</td>\n",
       "      <td>0.0</td>\n",
       "      <td>0.00000</td>\n",
       "      <td>0.0</td>\n",
       "      <td>0.251</td>\n",
       "      <td>0.0</td>\n",
       "      <td>0.0</td>\n",
       "      <td>0.0</td>\n",
       "      <td>0.000</td>\n",
       "      <td>0.1</td>\n",
       "      <td>...</td>\n",
       "      <td>0.098</td>\n",
       "      <td>0.0</td>\n",
       "      <td>0.0</td>\n",
       "      <td>0.0</td>\n",
       "      <td>0.0</td>\n",
       "      <td>0.0</td>\n",
       "      <td>1.0</td>\n",
       "      <td>1</td>\n",
       "      <td>1.0</td>\n",
       "      <td>3</td>\n",
       "    </tr>\n",
       "    <tr>\n",
       "      <th>3003</th>\n",
       "      <td>0.09</td>\n",
       "      <td>0.0</td>\n",
       "      <td>0.00000</td>\n",
       "      <td>0.0</td>\n",
       "      <td>0.252</td>\n",
       "      <td>0.0</td>\n",
       "      <td>0.0</td>\n",
       "      <td>0.0</td>\n",
       "      <td>0.000</td>\n",
       "      <td>0.1</td>\n",
       "      <td>...</td>\n",
       "      <td>0.099</td>\n",
       "      <td>0.0</td>\n",
       "      <td>0.0</td>\n",
       "      <td>0.0</td>\n",
       "      <td>0.0</td>\n",
       "      <td>0.0</td>\n",
       "      <td>1.0</td>\n",
       "      <td>1</td>\n",
       "      <td>1.0</td>\n",
       "      <td>3</td>\n",
       "    </tr>\n",
       "    <tr>\n",
       "      <th>3004</th>\n",
       "      <td>0.09</td>\n",
       "      <td>0.0</td>\n",
       "      <td>0.00000</td>\n",
       "      <td>0.0</td>\n",
       "      <td>0.253</td>\n",
       "      <td>0.0</td>\n",
       "      <td>0.0</td>\n",
       "      <td>0.0</td>\n",
       "      <td>0.000</td>\n",
       "      <td>0.1</td>\n",
       "      <td>...</td>\n",
       "      <td>0.099</td>\n",
       "      <td>0.0</td>\n",
       "      <td>0.0</td>\n",
       "      <td>0.0</td>\n",
       "      <td>0.0</td>\n",
       "      <td>0.0</td>\n",
       "      <td>1.0</td>\n",
       "      <td>1</td>\n",
       "      <td>1.0</td>\n",
       "      <td>3</td>\n",
       "    </tr>\n",
       "    <tr>\n",
       "      <th>3005</th>\n",
       "      <td>0.09</td>\n",
       "      <td>0.0</td>\n",
       "      <td>0.00000</td>\n",
       "      <td>0.0</td>\n",
       "      <td>0.254</td>\n",
       "      <td>0.0</td>\n",
       "      <td>0.0</td>\n",
       "      <td>0.0</td>\n",
       "      <td>0.000</td>\n",
       "      <td>0.1</td>\n",
       "      <td>...</td>\n",
       "      <td>0.100</td>\n",
       "      <td>0.0</td>\n",
       "      <td>0.0</td>\n",
       "      <td>0.0</td>\n",
       "      <td>0.0</td>\n",
       "      <td>0.0</td>\n",
       "      <td>1.0</td>\n",
       "      <td>1</td>\n",
       "      <td>1.0</td>\n",
       "      <td>3</td>\n",
       "    </tr>\n",
       "    <tr>\n",
       "      <th>3006</th>\n",
       "      <td>0.12</td>\n",
       "      <td>0.0</td>\n",
       "      <td>0.00000</td>\n",
       "      <td>0.0</td>\n",
       "      <td>0.034</td>\n",
       "      <td>0.0</td>\n",
       "      <td>0.0</td>\n",
       "      <td>0.0</td>\n",
       "      <td>0.000</td>\n",
       "      <td>0.1</td>\n",
       "      <td>...</td>\n",
       "      <td>0.000</td>\n",
       "      <td>0.0</td>\n",
       "      <td>0.0</td>\n",
       "      <td>0.0</td>\n",
       "      <td>0.0</td>\n",
       "      <td>0.0</td>\n",
       "      <td>1.0</td>\n",
       "      <td>1</td>\n",
       "      <td>1.0</td>\n",
       "      <td>3</td>\n",
       "    </tr>\n",
       "  </tbody>\n",
       "</table>\n",
       "<p>817551 rows × 26 columns</p>\n",
       "</div>"
      ],
      "text/plain": [
       "      service  flag  dst_bytes  logged_in  count  serror_rate  srv_error_rate  \\\n",
       "0        0.00   0.0    0.08314        0.1  0.001          0.0             0.0   \n",
       "1        0.00   0.0    0.08314        0.1  0.002          0.0             0.0   \n",
       "2        0.00   0.0    0.08314        0.1  0.003          0.0             0.0   \n",
       "3        0.00   0.0    0.08314        0.1  0.004          0.0             0.0   \n",
       "4        0.00   0.0    0.08314        0.1  0.004          0.0             0.0   \n",
       "...       ...   ...        ...        ...    ...          ...             ...   \n",
       "3002     0.09   0.0    0.00000        0.0  0.251          0.0             0.0   \n",
       "3003     0.09   0.0    0.00000        0.0  0.252          0.0             0.0   \n",
       "3004     0.09   0.0    0.00000        0.0  0.253          0.0             0.0   \n",
       "3005     0.09   0.0    0.00000        0.0  0.254          0.0             0.0   \n",
       "3006     0.12   0.0    0.00000        0.0  0.034          0.0             0.0   \n",
       "\n",
       "      rerror_rate  srv_rerror_rate  same_srv_rate  ...  \\\n",
       "0             0.0            0.050            0.1  ...   \n",
       "1             0.0            0.033            0.1  ...   \n",
       "2             0.0            0.025            0.1  ...   \n",
       "3             0.0            0.000            0.1  ...   \n",
       "4             0.0            0.000            0.1  ...   \n",
       "...           ...              ...            ...  ...   \n",
       "3002          0.0            0.000            0.1  ...   \n",
       "3003          0.0            0.000            0.1  ...   \n",
       "3004          0.0            0.000            0.1  ...   \n",
       "3005          0.0            0.000            0.1  ...   \n",
       "3006          0.0            0.000            0.1  ...   \n",
       "\n",
       "      dst_host_same_src_port_rate  dst_host_srv_diff_host_rate  \\\n",
       "0                           0.100                          0.0   \n",
       "1                           0.050                          0.0   \n",
       "2                           0.033                          0.0   \n",
       "3                           0.025                          0.0   \n",
       "4                           0.020                          0.0   \n",
       "...                           ...                          ...   \n",
       "3002                        0.098                          0.0   \n",
       "3003                        0.099                          0.0   \n",
       "3004                        0.099                          0.0   \n",
       "3005                        0.100                          0.0   \n",
       "3006                        0.000                          0.0   \n",
       "\n",
       "      dst_host_serror_rate  dst_host_srv_serror_rate  dst_host_rerror_rate  \\\n",
       "0                      0.0                       0.0                   0.0   \n",
       "1                      0.0                       0.0                   0.0   \n",
       "2                      0.0                       0.0                   0.0   \n",
       "3                      0.0                       0.0                   0.0   \n",
       "4                      0.0                       0.0                   0.0   \n",
       "...                    ...                       ...                   ...   \n",
       "3002                   0.0                       0.0                   0.0   \n",
       "3003                   0.0                       0.0                   0.0   \n",
       "3004                   0.0                       0.0                   0.0   \n",
       "3005                   0.0                       0.0                   0.0   \n",
       "3006                   0.0                       0.0                   0.0   \n",
       "\n",
       "      dst_host_srv_rerror_rate  Pred_attack_flag  Pred_attack_coded  \\\n",
       "0                          0.0               0.0                  0   \n",
       "1                          0.0               0.0                  0   \n",
       "2                          0.0               0.0                  0   \n",
       "3                          0.0               0.0                  0   \n",
       "4                          0.0               0.0                  0   \n",
       "...                        ...               ...                ...   \n",
       "3002                       0.0               1.0                  1   \n",
       "3003                       0.0               1.0                  1   \n",
       "3004                       0.0               1.0                  1   \n",
       "3005                       0.0               1.0                  1   \n",
       "3006                       0.0               1.0                  1   \n",
       "\n",
       "      Attack_flag  Attack_coded  \n",
       "0             1.0             6  \n",
       "1             1.0             6  \n",
       "2             1.0             6  \n",
       "3             1.0             6  \n",
       "4             1.0             6  \n",
       "...           ...           ...  \n",
       "3002          1.0             3  \n",
       "3003          1.0             3  \n",
       "3004          1.0             3  \n",
       "3005          1.0             3  \n",
       "3006          1.0             3  \n",
       "\n",
       "[817551 rows x 26 columns]"
      ]
     },
     "execution_count": 308,
     "metadata": {},
     "output_type": "execute_result"
    }
   ],
   "source": [
    "df"
   ]
  },
  {
   "cell_type": "code",
   "execution_count": null,
   "id": "37442152",
   "metadata": {},
   "outputs": [],
   "source": []
  }
 ],
 "metadata": {
  "kernelspec": {
   "display_name": "Python 3 (ipykernel)",
   "language": "python",
   "name": "python3"
  },
  "language_info": {
   "codemirror_mode": {
    "name": "ipython",
    "version": 3
   },
   "file_extension": ".py",
   "mimetype": "text/x-python",
   "name": "python",
   "nbconvert_exporter": "python",
   "pygments_lexer": "ipython3",
   "version": "3.10.9"
  }
 },
 "nbformat": 4,
 "nbformat_minor": 5
}
